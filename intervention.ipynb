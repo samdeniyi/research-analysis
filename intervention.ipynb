{
 "cells": [
  {
   "metadata": {
    "ExecuteTime": {
     "end_time": "2024-09-19T06:16:20.548710Z",
     "start_time": "2024-09-19T06:16:20.537978Z"
    }
   },
   "cell_type": "code",
   "source": [
    "import pandas as pd\n",
    "import matplotlib.pyplot as plt"
   ],
   "id": "b821da87499a583",
   "outputs": [],
   "execution_count": 132
  },
  {
   "metadata": {
    "ExecuteTime": {
     "end_time": "2024-09-19T06:16:20.599379Z",
     "start_time": "2024-09-19T06:16:20.591687Z"
    }
   },
   "cell_type": "code",
   "source": [
    "# Define the file path for the CSV file\n",
    "file_path = 'intervention_feedback.csv'"
   ],
   "id": "defde5e40b643ed6",
   "outputs": [],
   "execution_count": 133
  },
  {
   "metadata": {
    "ExecuteTime": {
     "end_time": "2024-09-19T06:16:20.689270Z",
     "start_time": "2024-09-19T06:16:20.675165Z"
    }
   },
   "cell_type": "code",
   "source": [
    "# Load the CSV file into a pandas DataFrame\n",
    "data = pd.read_csv(file_path)\n",
    "data.head()"
   ],
   "id": "d34998f4f5aa0e7",
   "outputs": [
    {
     "data": {
      "text/plain": [
       "            subject                       topic grade  curriculum_rating  \\\n",
       "0       Mathematics                    Addition  JSS1                  5   \n",
       "1  Computer studies           Computer software   Ss1                  5   \n",
       "2           Biology          Respiratory system  SSS2                  5   \n",
       "3       Mathematics  Maths operations in base 2  Jss1                  3   \n",
       "4      Mathematics                    Addition   JSS1                  1   \n",
       "\n",
       "                                  curriculum_comment  personalization_rating  \\\n",
       "0                                      Fit perfectly                       4   \n",
       "1                        The plan bis well detailed                        5   \n",
       "2  Gives me more insight about the topic. As a te...                       5   \n",
       "3                                                NaN                       3   \n",
       "4                                               Nonw                       1   \n",
       "\n",
       "                             personalization_comment  \n",
       "0                                              Great  \n",
       "1                            It easier to understand  \n",
       "2  It adds more knowledge and makes the students ...  \n",
       "3                                                NaN  \n",
       "4                                               Nibe  "
      ],
      "text/html": [
       "<div>\n",
       "<style scoped>\n",
       "    .dataframe tbody tr th:only-of-type {\n",
       "        vertical-align: middle;\n",
       "    }\n",
       "\n",
       "    .dataframe tbody tr th {\n",
       "        vertical-align: top;\n",
       "    }\n",
       "\n",
       "    .dataframe thead th {\n",
       "        text-align: right;\n",
       "    }\n",
       "</style>\n",
       "<table border=\"1\" class=\"dataframe\">\n",
       "  <thead>\n",
       "    <tr style=\"text-align: right;\">\n",
       "      <th></th>\n",
       "      <th>subject</th>\n",
       "      <th>topic</th>\n",
       "      <th>grade</th>\n",
       "      <th>curriculum_rating</th>\n",
       "      <th>curriculum_comment</th>\n",
       "      <th>personalization_rating</th>\n",
       "      <th>personalization_comment</th>\n",
       "    </tr>\n",
       "  </thead>\n",
       "  <tbody>\n",
       "    <tr>\n",
       "      <th>0</th>\n",
       "      <td>Mathematics</td>\n",
       "      <td>Addition</td>\n",
       "      <td>JSS1</td>\n",
       "      <td>5</td>\n",
       "      <td>Fit perfectly</td>\n",
       "      <td>4</td>\n",
       "      <td>Great</td>\n",
       "    </tr>\n",
       "    <tr>\n",
       "      <th>1</th>\n",
       "      <td>Computer studies</td>\n",
       "      <td>Computer software</td>\n",
       "      <td>Ss1</td>\n",
       "      <td>5</td>\n",
       "      <td>The plan bis well detailed</td>\n",
       "      <td>5</td>\n",
       "      <td>It easier to understand</td>\n",
       "    </tr>\n",
       "    <tr>\n",
       "      <th>2</th>\n",
       "      <td>Biology</td>\n",
       "      <td>Respiratory system</td>\n",
       "      <td>SSS2</td>\n",
       "      <td>5</td>\n",
       "      <td>Gives me more insight about the topic. As a te...</td>\n",
       "      <td>5</td>\n",
       "      <td>It adds more knowledge and makes the students ...</td>\n",
       "    </tr>\n",
       "    <tr>\n",
       "      <th>3</th>\n",
       "      <td>Mathematics</td>\n",
       "      <td>Maths operations in base 2</td>\n",
       "      <td>Jss1</td>\n",
       "      <td>3</td>\n",
       "      <td>NaN</td>\n",
       "      <td>3</td>\n",
       "      <td>NaN</td>\n",
       "    </tr>\n",
       "    <tr>\n",
       "      <th>4</th>\n",
       "      <td>Mathematics</td>\n",
       "      <td>Addition</td>\n",
       "      <td>JSS1</td>\n",
       "      <td>1</td>\n",
       "      <td>Nonw</td>\n",
       "      <td>1</td>\n",
       "      <td>Nibe</td>\n",
       "    </tr>\n",
       "  </tbody>\n",
       "</table>\n",
       "</div>"
      ]
     },
     "execution_count": 134,
     "metadata": {},
     "output_type": "execute_result"
    }
   ],
   "execution_count": 134
  },
  {
   "metadata": {},
   "cell_type": "markdown",
   "source": "### Data Cleaning",
   "id": "6713359684f4aad"
  },
  {
   "metadata": {
    "ExecuteTime": {
     "end_time": "2024-09-19T06:16:20.776852Z",
     "start_time": "2024-09-19T06:16:20.764597Z"
    }
   },
   "cell_type": "code",
   "source": [
    "# Clean the grade column\n",
    "def clean_grade_column(grade):\n",
    "    # Standardize the common forms for grades like JSS1, SS1, etc.\n",
    "    grade = grade.strip().upper()\n",
    "    mappings = {\n",
    "        'JSS1': ['J1', 'JS1', 'JSS 1', 'JSS1', 'JSS 1', 'Jss 1', 'Jss1', 'Jss 1', 'Js1'],\n",
    "        'JSS2': ['JSS 2', 'J2', 'JS2', 'JSS2', 'Jss2', 'Js2'],\n",
    "        'JSS3': ['JSS 3', 'JS3', 'JSS3', 'Jss3', 'Js3'],\n",
    "        'SS1': ['SS1', 'SSS1', 'SS 1', 'S.S.1', 'Ss1', 'SSI', 'S S 1'],\n",
    "        'SS2': ['SS2', 'SS 2', 'S.S.2', 'Ss2', 'S S 2', 'SSS2', 'SSS2', 'SSS 2'],\n",
    "        'SS3': ['SS3', 'SS 3', 'S.S.3', 'Ss3', 'S S 3', 'SSS3', 'Sss3'],\n",
    "        'PRIMARY 2': ['Primary 2', 'Pri 2', 'PRIMARY TWO'],\n",
    "        'PRIMARY 3': ['Primary 3', 'Primary three', 'Primary 3', 'Basic 3'],\n",
    "        'PRIMARY 4': ['Primary 4', 'Primary four', 'PRIMARY FOUR', 'Pri 4'],\n",
    "        'PRIMARY 5': ['Primary 5', 'Pri 5', 'PRIMARY FIVE','PRI 5','GRADE 5'],\n",
    "        'PRIMARY 6': ['Primary 6', 'Pri 6'],\n",
    "        'PRE SCHOOL': ['Pre School 1', 'Prep 1'],\n",
    "        'UNIVERSITY LEVEL 300': ['University Level 300'],\n",
    "    }\n",
    "\n",
    "    # Iterate over the mapping dictionary to standardize the grades\n",
    "    for standard_grade, variations in mappings.items():\n",
    "        if grade in variations:\n",
    "            return standard_grade\n",
    "    return grade  # Return original if no match is found\n",
    "\n",
    "grade = data['grade']\n",
    "grade_list = list(grade)\n",
    "cleaned_grades = [clean_grade_column(grade) for grade in grade_list]\n",
    "\n",
    "data['clean_grade'] = [clean_grade_column(grade) for grade in grade_list]\n",
    "\n",
    "data.head()"
   ],
   "id": "4cc5fdc975960206",
   "outputs": [
    {
     "data": {
      "text/plain": [
       "            subject                       topic grade  curriculum_rating  \\\n",
       "0       Mathematics                    Addition  JSS1                  5   \n",
       "1  Computer studies           Computer software   Ss1                  5   \n",
       "2           Biology          Respiratory system  SSS2                  5   \n",
       "3       Mathematics  Maths operations in base 2  Jss1                  3   \n",
       "4      Mathematics                    Addition   JSS1                  1   \n",
       "\n",
       "                                  curriculum_comment  personalization_rating  \\\n",
       "0                                      Fit perfectly                       4   \n",
       "1                        The plan bis well detailed                        5   \n",
       "2  Gives me more insight about the topic. As a te...                       5   \n",
       "3                                                NaN                       3   \n",
       "4                                               Nonw                       1   \n",
       "\n",
       "                             personalization_comment clean_grade  \n",
       "0                                              Great        JSS1  \n",
       "1                            It easier to understand         SS1  \n",
       "2  It adds more knowledge and makes the students ...         SS2  \n",
       "3                                                NaN        JSS1  \n",
       "4                                               Nibe        JSS1  "
      ],
      "text/html": [
       "<div>\n",
       "<style scoped>\n",
       "    .dataframe tbody tr th:only-of-type {\n",
       "        vertical-align: middle;\n",
       "    }\n",
       "\n",
       "    .dataframe tbody tr th {\n",
       "        vertical-align: top;\n",
       "    }\n",
       "\n",
       "    .dataframe thead th {\n",
       "        text-align: right;\n",
       "    }\n",
       "</style>\n",
       "<table border=\"1\" class=\"dataframe\">\n",
       "  <thead>\n",
       "    <tr style=\"text-align: right;\">\n",
       "      <th></th>\n",
       "      <th>subject</th>\n",
       "      <th>topic</th>\n",
       "      <th>grade</th>\n",
       "      <th>curriculum_rating</th>\n",
       "      <th>curriculum_comment</th>\n",
       "      <th>personalization_rating</th>\n",
       "      <th>personalization_comment</th>\n",
       "      <th>clean_grade</th>\n",
       "    </tr>\n",
       "  </thead>\n",
       "  <tbody>\n",
       "    <tr>\n",
       "      <th>0</th>\n",
       "      <td>Mathematics</td>\n",
       "      <td>Addition</td>\n",
       "      <td>JSS1</td>\n",
       "      <td>5</td>\n",
       "      <td>Fit perfectly</td>\n",
       "      <td>4</td>\n",
       "      <td>Great</td>\n",
       "      <td>JSS1</td>\n",
       "    </tr>\n",
       "    <tr>\n",
       "      <th>1</th>\n",
       "      <td>Computer studies</td>\n",
       "      <td>Computer software</td>\n",
       "      <td>Ss1</td>\n",
       "      <td>5</td>\n",
       "      <td>The plan bis well detailed</td>\n",
       "      <td>5</td>\n",
       "      <td>It easier to understand</td>\n",
       "      <td>SS1</td>\n",
       "    </tr>\n",
       "    <tr>\n",
       "      <th>2</th>\n",
       "      <td>Biology</td>\n",
       "      <td>Respiratory system</td>\n",
       "      <td>SSS2</td>\n",
       "      <td>5</td>\n",
       "      <td>Gives me more insight about the topic. As a te...</td>\n",
       "      <td>5</td>\n",
       "      <td>It adds more knowledge and makes the students ...</td>\n",
       "      <td>SS2</td>\n",
       "    </tr>\n",
       "    <tr>\n",
       "      <th>3</th>\n",
       "      <td>Mathematics</td>\n",
       "      <td>Maths operations in base 2</td>\n",
       "      <td>Jss1</td>\n",
       "      <td>3</td>\n",
       "      <td>NaN</td>\n",
       "      <td>3</td>\n",
       "      <td>NaN</td>\n",
       "      <td>JSS1</td>\n",
       "    </tr>\n",
       "    <tr>\n",
       "      <th>4</th>\n",
       "      <td>Mathematics</td>\n",
       "      <td>Addition</td>\n",
       "      <td>JSS1</td>\n",
       "      <td>1</td>\n",
       "      <td>Nonw</td>\n",
       "      <td>1</td>\n",
       "      <td>Nibe</td>\n",
       "      <td>JSS1</td>\n",
       "    </tr>\n",
       "  </tbody>\n",
       "</table>\n",
       "</div>"
      ]
     },
     "execution_count": 135,
     "metadata": {},
     "output_type": "execute_result"
    }
   ],
   "execution_count": 135
  },
  {
   "metadata": {
    "ExecuteTime": {
     "end_time": "2024-09-19T06:16:20.883112Z",
     "start_time": "2024-09-19T06:16:20.876822Z"
    }
   },
   "cell_type": "code",
   "source": [
    "# find the unique values in the 'clean_grade' column and their counts\n",
    "grade_counts = data['clean_grade'].value_counts()\n",
    "grade_counts"
   ],
   "id": "c9d6c200ed7e0812",
   "outputs": [
    {
     "data": {
      "text/plain": [
       "clean_grade\n",
       "SS1                     29\n",
       "SS2                     24\n",
       "JSS1                    18\n",
       "JSS2                    16\n",
       "SS3                     16\n",
       "JSS3                    15\n",
       "PRIMARY 5                8\n",
       "PRIMARY 3                4\n",
       "PRIMARY 4                3\n",
       "PRIMARY 2                3\n",
       "PRE SCHOOL 1             1\n",
       "UNIVERSITY LEVEL 300     1\n",
       "PRIMARY 6                1\n",
       "BASIC 3                  1\n",
       "PREP 1                   1\n",
       "12C MEDIA                1\n",
       "Name: count, dtype: int64"
      ]
     },
     "execution_count": 136,
     "metadata": {},
     "output_type": "execute_result"
    }
   ],
   "execution_count": 136
  },
  {
   "metadata": {
    "ExecuteTime": {
     "end_time": "2024-09-19T06:16:21.014213Z",
     "start_time": "2024-09-19T06:16:21.007939Z"
    }
   },
   "cell_type": "code",
   "source": [
    "# Clean the subject column\n",
    "def clean_subject_column(subject):\n",
    "\t# Standardize the common forms for subjects like Mathematics, English, etc.\n",
    "    subject = subject.strip().lower()\n",
    "    mappings = {\n",
    "        'mathematics': ['math', 'maths', 'mathematics', 'mathematic', 'mathematical','mathemtics'],\n",
    "        'english': ['eng', 'english', 'engish', 'english language'],\n",
    "        'science': ['sci', 'science', 'sciences'],\n",
    "        'social studies': ['sst', 'social studies', 'social study'],\n",
    "        'computer science': ['computer', 'computer science', 'computer studies'],\n",
    "        'basic science': ['basic science', 'basic sciences'],\n",
    "        'basic technology': ['basic tech', 'basic technology', 'basic techology'],\n",
    "        'agricultural science': ['agric', 'agric science', 'agricultural science'],\n",
    "        'physical and health education': ['phe', 'physical health education', 'physical health'],\n",
    "        'business studies': ['business', 'business studies', 'business study'],\n",
    "        'civic education': ['civic', 'civic education'],\n",
    "        'home economics': ['home eco', 'home economics', 'home economic'],\n",
    "        'fine art': ['fine art', 'fine arts'],\n",
    "        'music': ['music', 'musics'],\n",
    "        'yoruba': ['yoruba', 'yorub'],\n",
    "        'french': ['french', 'french language'],\n",
    "        'history': ['history', 'histories'],\n",
    "        'geography': ['geography', 'geographies'],\n",
    "        'government': ['government', 'governments'],\n",
    "        'economics': ['economics', 'economic'],\n",
    "        'literature': ['lit', 'literature', 'literatures'],\n",
    "        'accounting': ['accounting', 'account'],\n",
    "        'commerce': ['commerce', 'commerces'],\n",
    "        'crs': ['crs', 'christian religious studies'],\n",
    "        'irs': ['irs', 'islamic religious studies'],\n",
    "        'irk': ['irk', 'islamic religious knowledge'],\n",
    "        'health education': ['health', 'health education'],\n",
    "        'physical education': ['physical education', 'physical educations'],\n",
    "        'creative arts': ['creative arts', 'creative art'],\n",
    "        'diction': ['diction', 'diction and phonetics'],\n",
    "        'phonetics': ['phonetics', 'phonetic'],\n",
    "        'phonics': ['phonics', 'phonetic'],\n",
    "\t            'phonology': ['phonology', 'phonologic'],\n",
    "\t            'phonological awareness': ['phonological awareness', 'phonological'],\n",
    "\t            'phonological processing': ['phonological processing', 'phonological process'],\n",
    "\t            'phonological disorder': ['phonological disorder', 'phonological disorders'],\n",
    "    }\n",
    "    # Iterate over the mapping dictionary to standardize the subjects\n",
    "    for standard_subject, variations in mappings.items():\n",
    "        if subject in variations:\n",
    "            return standard_subject\n",
    "    return subject  # Return original if no match is found\n",
    "# Apply the clean_subject_column function to the 'subject' column\n",
    "data['subject'] = data['subject'].apply(clean_subject_column)\n",
    "\n",
    "# Display the cleaned 'subject' column\n",
    "subjects_count = data['subject'].value_counts()\n",
    "subjects_count\n",
    "\n",
    "# Add new column called clean_subject to clean_data\n",
    "\n",
    "\t"
   ],
   "id": "d28e3f9f156c350c",
   "outputs": [
    {
     "data": {
      "text/plain": [
       "subject\n",
       "mathematics                              25\n",
       "english                                  19\n",
       "chemistry                                15\n",
       "social studies                           10\n",
       "computer science                          9\n",
       "basic science                             8\n",
       "physics                                   7\n",
       "biology                                   6\n",
       "agricultural science                      6\n",
       "government                                3\n",
       "civic education                           3\n",
       "economics                                 2\n",
       "technical drawing                         2\n",
       "islamic studies                           2\n",
       "physical and health education             2\n",
       "security education                        1\n",
       "phonics                                   1\n",
       "media studies                             1\n",
       "information technology                    1\n",
       "accounting                                1\n",
       "geography                                 1\n",
       "financial accounting                      1\n",
       "crs                                       1\n",
       "hausa                                     1\n",
       "further mathematics                       1\n",
       "home economics                            1\n",
       "literature in english                     1\n",
       "literature                                1\n",
       "cultural and creative art                 1\n",
       "data processing                           1\n",
       "islamic religion knowledge                1\n",
       "international relations                   1\n",
       "business studies                          1\n",
       "numeracy                                  1\n",
       "fishery                                   1\n",
       "science                                   1\n",
       "statisticss                               1\n",
       "introduction to building construction     1\n",
       "Name: count, dtype: int64"
      ]
     },
     "execution_count": 137,
     "metadata": {},
     "output_type": "execute_result"
    }
   ],
   "execution_count": 137
  },
  {
   "metadata": {},
   "cell_type": "markdown",
   "source": "### Quick overview of the intervention data",
   "id": "f14497aa6d817893"
  },
  {
   "metadata": {
    "ExecuteTime": {
     "end_time": "2024-09-19T06:16:21.143600Z",
     "start_time": "2024-09-19T06:16:21.136980Z"
    }
   },
   "cell_type": "code",
   "source": [
    "# Describe only the curriculum and personalization ratings\n",
    "data[['curriculum_rating', 'personalization_rating']].describe().round()"
   ],
   "id": "a697b12d0a4dcf9e",
   "outputs": [
    {
     "data": {
      "text/plain": [
       "       curriculum_rating  personalization_rating\n",
       "count              142.0                   142.0\n",
       "mean                 4.0                     4.0\n",
       "std                  1.0                     1.0\n",
       "min                  1.0                     1.0\n",
       "25%                  3.0                     3.0\n",
       "50%                  4.0                     4.0\n",
       "75%                  5.0                     5.0\n",
       "max                  5.0                     5.0"
      ],
      "text/html": [
       "<div>\n",
       "<style scoped>\n",
       "    .dataframe tbody tr th:only-of-type {\n",
       "        vertical-align: middle;\n",
       "    }\n",
       "\n",
       "    .dataframe tbody tr th {\n",
       "        vertical-align: top;\n",
       "    }\n",
       "\n",
       "    .dataframe thead th {\n",
       "        text-align: right;\n",
       "    }\n",
       "</style>\n",
       "<table border=\"1\" class=\"dataframe\">\n",
       "  <thead>\n",
       "    <tr style=\"text-align: right;\">\n",
       "      <th></th>\n",
       "      <th>curriculum_rating</th>\n",
       "      <th>personalization_rating</th>\n",
       "    </tr>\n",
       "  </thead>\n",
       "  <tbody>\n",
       "    <tr>\n",
       "      <th>count</th>\n",
       "      <td>142.0</td>\n",
       "      <td>142.0</td>\n",
       "    </tr>\n",
       "    <tr>\n",
       "      <th>mean</th>\n",
       "      <td>4.0</td>\n",
       "      <td>4.0</td>\n",
       "    </tr>\n",
       "    <tr>\n",
       "      <th>std</th>\n",
       "      <td>1.0</td>\n",
       "      <td>1.0</td>\n",
       "    </tr>\n",
       "    <tr>\n",
       "      <th>min</th>\n",
       "      <td>1.0</td>\n",
       "      <td>1.0</td>\n",
       "    </tr>\n",
       "    <tr>\n",
       "      <th>25%</th>\n",
       "      <td>3.0</td>\n",
       "      <td>3.0</td>\n",
       "    </tr>\n",
       "    <tr>\n",
       "      <th>50%</th>\n",
       "      <td>4.0</td>\n",
       "      <td>4.0</td>\n",
       "    </tr>\n",
       "    <tr>\n",
       "      <th>75%</th>\n",
       "      <td>5.0</td>\n",
       "      <td>5.0</td>\n",
       "    </tr>\n",
       "    <tr>\n",
       "      <th>max</th>\n",
       "      <td>5.0</td>\n",
       "      <td>5.0</td>\n",
       "    </tr>\n",
       "  </tbody>\n",
       "</table>\n",
       "</div>"
      ]
     },
     "execution_count": 138,
     "metadata": {},
     "output_type": "execute_result"
    }
   ],
   "execution_count": 138
  },
  {
   "metadata": {},
   "cell_type": "markdown",
   "source": "### 1. Grade distribution",
   "id": "6f971f89b49751a9"
  },
  {
   "metadata": {
    "ExecuteTime": {
     "end_time": "2024-09-19T06:16:21.369135Z",
     "start_time": "2024-09-19T06:16:21.251321Z"
    }
   },
   "cell_type": "code",
   "source": [
    "# Display the distribution of grades\n",
    "plt.figure(figsize=(10, 6))\n",
    "grade_counts.plot(kind='bar', color='skyblue')\n",
    "plt.title('Distribution of Grades')\n",
    "plt.xlabel('Grade')\n",
    "plt.ylabel('Count')\n",
    "plt.xticks(rotation=45)\n",
    "plt.show()"
   ],
   "id": "4c4de8ba4ccf250e",
   "outputs": [
    {
     "data": {
      "text/plain": [
       "<Figure size 1000x600 with 1 Axes>"
      ],
      "image/png": "[encoded data removed]"
     },
     "metadata": {},
     "output_type": "display_data"
    }
   ],
   "execution_count": 139
  },
  {
   "metadata": {
    "ExecuteTime": {
     "end_time": "2024-09-19T06:16:21.421141Z",
     "start_time": "2024-09-19T06:16:21.414475Z"
    }
   },
   "cell_type": "code",
   "source": [
    "clean_grade_index = data['clean_grade'].value_counts().index\n",
    "clean_grade_values = data['clean_grade'].value_counts().values\n",
    "grade_data = {'clean_grade': clean_grade_index, 'Count': clean_grade_values}\n",
    "df = pd.DataFrame(grade_data)\n",
    "# Calculating the total count\n",
    "total_count = df['Count'].sum()\n",
    "print(f'Total Count: {total_count}')\n",
    "# Adding a new column for percentage\n",
    "df['Percentage'] = ((df['Count'] / total_count) * 100).round(1)\n",
    "Total_Percentage = df['Percentage'].sum()\n",
    "print(f'Total Percentage: {Total_Percentage}')\n",
    "# Display the DataFrame\n",
    "df"
   ],
   "id": "e021588860f7c1f0",
   "outputs": [
    {
     "name": "stdout",
     "output_type": "stream",
     "text": [
      "Total Count: 142\n",
      "Total Percentage: 100.0\n"
     ]
    },
    {
     "data": {
      "text/plain": [
       "             clean_grade  Count  Percentage\n",
       "0                    SS1     29        20.4\n",
       "1                    SS2     24        16.9\n",
       "2                   JSS1     18        12.7\n",
       "3                   JSS2     16        11.3\n",
       "4                    SS3     16        11.3\n",
       "5                   JSS3     15        10.6\n",
       "6              PRIMARY 5      8         5.6\n",
       "7              PRIMARY 3      4         2.8\n",
       "8              PRIMARY 4      3         2.1\n",
       "9              PRIMARY 2      3         2.1\n",
       "10          PRE SCHOOL 1      1         0.7\n",
       "11  UNIVERSITY LEVEL 300      1         0.7\n",
       "12             PRIMARY 6      1         0.7\n",
       "13               BASIC 3      1         0.7\n",
       "14                PREP 1      1         0.7\n",
       "15             12C MEDIA      1         0.7"
      ],
      "text/html": [
       "<div>\n",
       "<style scoped>\n",
       "    .dataframe tbody tr th:only-of-type {\n",
       "        vertical-align: middle;\n",
       "    }\n",
       "\n",
       "    .dataframe tbody tr th {\n",
       "        vertical-align: top;\n",
       "    }\n",
       "\n",
       "    .dataframe thead th {\n",
       "        text-align: right;\n",
       "    }\n",
       "</style>\n",
       "<table border=\"1\" class=\"dataframe\">\n",
       "  <thead>\n",
       "    <tr style=\"text-align: right;\">\n",
       "      <th></th>\n",
       "      <th>clean_grade</th>\n",
       "      <th>Count</th>\n",
       "      <th>Percentage</th>\n",
       "    </tr>\n",
       "  </thead>\n",
       "  <tbody>\n",
       "    <tr>\n",
       "      <th>0</th>\n",
       "      <td>SS1</td>\n",
       "      <td>29</td>\n",
       "      <td>20.4</td>\n",
       "    </tr>\n",
       "    <tr>\n",
       "      <th>1</th>\n",
       "      <td>SS2</td>\n",
       "      <td>24</td>\n",
       "      <td>16.9</td>\n",
       "    </tr>\n",
       "    <tr>\n",
       "      <th>2</th>\n",
       "      <td>JSS1</td>\n",
       "      <td>18</td>\n",
       "      <td>12.7</td>\n",
       "    </tr>\n",
       "    <tr>\n",
       "      <th>3</th>\n",
       "      <td>JSS2</td>\n",
       "      <td>16</td>\n",
       "      <td>11.3</td>\n",
       "    </tr>\n",
       "    <tr>\n",
       "      <th>4</th>\n",
       "      <td>SS3</td>\n",
       "      <td>16</td>\n",
       "      <td>11.3</td>\n",
       "    </tr>\n",
       "    <tr>\n",
       "      <th>5</th>\n",
       "      <td>JSS3</td>\n",
       "      <td>15</td>\n",
       "      <td>10.6</td>\n",
       "    </tr>\n",
       "    <tr>\n",
       "      <th>6</th>\n",
       "      <td>PRIMARY 5</td>\n",
       "      <td>8</td>\n",
       "      <td>5.6</td>\n",
       "    </tr>\n",
       "    <tr>\n",
       "      <th>7</th>\n",
       "      <td>PRIMARY 3</td>\n",
       "      <td>4</td>\n",
       "      <td>2.8</td>\n",
       "    </tr>\n",
       "    <tr>\n",
       "      <th>8</th>\n",
       "      <td>PRIMARY 4</td>\n",
       "      <td>3</td>\n",
       "      <td>2.1</td>\n",
       "    </tr>\n",
       "    <tr>\n",
       "      <th>9</th>\n",
       "      <td>PRIMARY 2</td>\n",
       "      <td>3</td>\n",
       "      <td>2.1</td>\n",
       "    </tr>\n",
       "    <tr>\n",
       "      <th>10</th>\n",
       "      <td>PRE SCHOOL 1</td>\n",
       "      <td>1</td>\n",
       "      <td>0.7</td>\n",
       "    </tr>\n",
       "    <tr>\n",
       "      <th>11</th>\n",
       "      <td>UNIVERSITY LEVEL 300</td>\n",
       "      <td>1</td>\n",
       "      <td>0.7</td>\n",
       "    </tr>\n",
       "    <tr>\n",
       "      <th>12</th>\n",
       "      <td>PRIMARY 6</td>\n",
       "      <td>1</td>\n",
       "      <td>0.7</td>\n",
       "    </tr>\n",
       "    <tr>\n",
       "      <th>13</th>\n",
       "      <td>BASIC 3</td>\n",
       "      <td>1</td>\n",
       "      <td>0.7</td>\n",
       "    </tr>\n",
       "    <tr>\n",
       "      <th>14</th>\n",
       "      <td>PREP 1</td>\n",
       "      <td>1</td>\n",
       "      <td>0.7</td>\n",
       "    </tr>\n",
       "    <tr>\n",
       "      <th>15</th>\n",
       "      <td>12C MEDIA</td>\n",
       "      <td>1</td>\n",
       "      <td>0.7</td>\n",
       "    </tr>\n",
       "  </tbody>\n",
       "</table>\n",
       "</div>"
      ]
     },
     "execution_count": 140,
     "metadata": {},
     "output_type": "execute_result"
    }
   ],
   "execution_count": 140
  },
  {
   "metadata": {},
   "cell_type": "markdown",
   "source": "### 2. Subject distribution",
   "id": "89f9ce90263df591"
  },
  {
   "metadata": {
    "ExecuteTime": {
     "end_time": "2024-09-19T06:16:21.706443Z",
     "start_time": "2024-09-19T06:16:21.511688Z"
    }
   },
   "cell_type": "code",
   "source": [
    "# Display the distribution of subjects\n",
    "plt.figure(figsize=(12, 8))\n",
    "subjects_count.plot(kind='bar', color='skyblue')\n",
    "plt.title('Distribution of Subjects')\n",
    "plt.xlabel('Subject')\n",
    "plt.ylabel('Count')\n",
    "plt.xticks(rotation=90)\n",
    "plt.show()"
   ],
   "id": "dd41ee24ca2db803",
   "outputs": [
    {
     "data": {
      "text/plain": [
       "<Figure size 1200x800 with 1 Axes>"
      ],
      "image/png": "[encoded data removed]"
     },
     "metadata": {},
     "output_type": "display_data"
    }
   ],
   "execution_count": 141
  },
  {
   "metadata": {
    "ExecuteTime": {
     "end_time": "2024-09-19T06:16:21.743773Z",
     "start_time": "2024-09-19T06:16:21.734844Z"
    }
   },
   "cell_type": "code",
   "source": [
    "# Display the distribution of subjects\n",
    "subjects_index = subjects_count.index\n",
    "subjects_values = subjects_count.values\n",
    "subjects_data = {'subject': subjects_index, 'Count': subjects_values}\n",
    "df = pd.DataFrame(subjects_data)\n",
    "# Calculating the total count\n",
    "total_count = df['Count'].sum()\n",
    "print(f'Total Count: {total_count}')\n",
    "# Adding a new column for percentage\n",
    "df['Percentage'] = ((df['Count'] / total_count) * 100).round(1)\n",
    "Total_Percentage = df['Percentage'].sum()\n",
    "print(f'Total Percentage: {Total_Percentage}')\n",
    "# Display the DataFrame\n",
    "df"
   ],
   "id": "dc35cf2c76146cf1",
   "outputs": [
    {
     "name": "stdout",
     "output_type": "stream",
     "text": [
      "Total Count: 142\n",
      "Total Percentage: 99.70000000000002\n"
     ]
    },
    {
     "data": {
      "text/plain": [
       "                                  subject  Count  Percentage\n",
       "0                             mathematics     25        17.6\n",
       "1                                 english     19        13.4\n",
       "2                               chemistry     15        10.6\n",
       "3                          social studies     10         7.0\n",
       "4                        computer science      9         6.3\n",
       "5                           basic science      8         5.6\n",
       "6                                 physics      7         4.9\n",
       "7                                 biology      6         4.2\n",
       "8                    agricultural science      6         4.2\n",
       "9                              government      3         2.1\n",
       "10                        civic education      3         2.1\n",
       "11                              economics      2         1.4\n",
       "12                      technical drawing      2         1.4\n",
       "13                        islamic studies      2         1.4\n",
       "14          physical and health education      2         1.4\n",
       "15                     security education      1         0.7\n",
       "16                                phonics      1         0.7\n",
       "17                          media studies      1         0.7\n",
       "18                 information technology      1         0.7\n",
       "19                             accounting      1         0.7\n",
       "20                              geography      1         0.7\n",
       "21                   financial accounting      1         0.7\n",
       "22                                    crs      1         0.7\n",
       "23                                  hausa      1         0.7\n",
       "24                    further mathematics      1         0.7\n",
       "25                         home economics      1         0.7\n",
       "26                  literature in english      1         0.7\n",
       "27                             literature      1         0.7\n",
       "28              cultural and creative art      1         0.7\n",
       "29                        data processing      1         0.7\n",
       "30             islamic religion knowledge      1         0.7\n",
       "31                international relations      1         0.7\n",
       "32                       business studies      1         0.7\n",
       "33                               numeracy      1         0.7\n",
       "34                                fishery      1         0.7\n",
       "35                                science      1         0.7\n",
       "36                            statisticss      1         0.7\n",
       "37  introduction to building construction      1         0.7"
      ],
      "text/html": [
       "<div>\n",
       "<style scoped>\n",
       "    .dataframe tbody tr th:only-of-type {\n",
       "        vertical-align: middle;\n",
       "    }\n",
       "\n",
       "    .dataframe tbody tr th {\n",
       "        vertical-align: top;\n",
       "    }\n",
       "\n",
       "    .dataframe thead th {\n",
       "        text-align: right;\n",
       "    }\n",
       "</style>\n",
       "<table border=\"1\" class=\"dataframe\">\n",
       "  <thead>\n",
       "    <tr style=\"text-align: right;\">\n",
       "      <th></th>\n",
       "      <th>subject</th>\n",
       "      <th>Count</th>\n",
       "      <th>Percentage</th>\n",
       "    </tr>\n",
       "  </thead>\n",
       "  <tbody>\n",
       "    <tr>\n",
       "      <th>0</th>\n",
       "      <td>mathematics</td>\n",
       "      <td>25</td>\n",
       "      <td>17.6</td>\n",
       "    </tr>\n",
       "    <tr>\n",
       "      <th>1</th>\n",
       "      <td>english</td>\n",
       "      <td>19</td>\n",
       "      <td>13.4</td>\n",
       "    </tr>\n",
       "    <tr>\n",
       "      <th>2</th>\n",
       "      <td>chemistry</td>\n",
       "      <td>15</td>\n",
       "      <td>10.6</td>\n",
       "    </tr>\n",
       "    <tr>\n",
       "      <th>3</th>\n",
       "      <td>social studies</td>\n",
       "      <td>10</td>\n",
       "      <td>7.0</td>\n",
       "    </tr>\n",
       "    <tr>\n",
       "      <th>4</th>\n",
       "      <td>computer science</td>\n",
       "      <td>9</td>\n",
       "      <td>6.3</td>\n",
       "    </tr>\n",
       "    <tr>\n",
       "      <th>5</th>\n",
       "      <td>basic science</td>\n",
       "      <td>8</td>\n",
       "      <td>5.6</td>\n",
       "    </tr>\n",
       "    <tr>\n",
       "      <th>6</th>\n",
       "      <td>physics</td>\n",
       "      <td>7</td>\n",
       "      <td>4.9</td>\n",
       "    </tr>\n",
       "    <tr>\n",
       "      <th>7</th>\n",
       "      <td>biology</td>\n",
       "      <td>6</td>\n",
       "      <td>4.2</td>\n",
       "    </tr>\n",
       "    <tr>\n",
       "      <th>8</th>\n",
       "      <td>agricultural science</td>\n",
       "      <td>6</td>\n",
       "      <td>4.2</td>\n",
       "    </tr>\n",
       "    <tr>\n",
       "      <th>9</th>\n",
       "      <td>government</td>\n",
       "      <td>3</td>\n",
       "      <td>2.1</td>\n",
       "    </tr>\n",
       "    <tr>\n",
       "      <th>10</th>\n",
       "      <td>civic education</td>\n",
       "      <td>3</td>\n",
       "      <td>2.1</td>\n",
       "    </tr>\n",
       "    <tr>\n",
       "      <th>11</th>\n",
       "      <td>economics</td>\n",
       "      <td>2</td>\n",
       "      <td>1.4</td>\n",
       "    </tr>\n",
       "    <tr>\n",
       "      <th>12</th>\n",
       "      <td>technical drawing</td>\n",
       "      <td>2</td>\n",
       "      <td>1.4</td>\n",
       "    </tr>\n",
       "    <tr>\n",
       "      <th>13</th>\n",
       "      <td>islamic studies</td>\n",
       "      <td>2</td>\n",
       "      <td>1.4</td>\n",
       "    </tr>\n",
       "    <tr>\n",
       "      <th>14</th>\n",
       "      <td>physical and health education</td>\n",
       "      <td>2</td>\n",
       "      <td>1.4</td>\n",
       "    </tr>\n",
       "    <tr>\n",
       "      <th>15</th>\n",
       "      <td>security education</td>\n",
       "      <td>1</td>\n",
       "      <td>0.7</td>\n",
       "    </tr>\n",
       "    <tr>\n",
       "      <th>16</th>\n",
       "      <td>phonics</td>\n",
       "      <td>1</td>\n",
       "      <td>0.7</td>\n",
       "    </tr>\n",
       "    <tr>\n",
       "      <th>17</th>\n",
       "      <td>media studies</td>\n",
       "      <td>1</td>\n",
       "      <td>0.7</td>\n",
       "    </tr>\n",
       "    <tr>\n",
       "      <th>18</th>\n",
       "      <td>information technology</td>\n",
       "      <td>1</td>\n",
       "      <td>0.7</td>\n",
       "    </tr>\n",
       "    <tr>\n",
       "      <th>19</th>\n",
       "      <td>accounting</td>\n",
       "      <td>1</td>\n",
       "      <td>0.7</td>\n",
       "    </tr>\n",
       "    <tr>\n",
       "      <th>20</th>\n",
       "      <td>geography</td>\n",
       "      <td>1</td>\n",
       "      <td>0.7</td>\n",
       "    </tr>\n",
       "    <tr>\n",
       "      <th>21</th>\n",
       "      <td>financial accounting</td>\n",
       "      <td>1</td>\n",
       "      <td>0.7</td>\n",
       "    </tr>\n",
       "    <tr>\n",
       "      <th>22</th>\n",
       "      <td>crs</td>\n",
       "      <td>1</td>\n",
       "      <td>0.7</td>\n",
       "    </tr>\n",
       "    <tr>\n",
       "      <th>23</th>\n",
       "      <td>hausa</td>\n",
       "      <td>1</td>\n",
       "      <td>0.7</td>\n",
       "    </tr>\n",
       "    <tr>\n",
       "      <th>24</th>\n",
       "      <td>further mathematics</td>\n",
       "      <td>1</td>\n",
       "      <td>0.7</td>\n",
       "    </tr>\n",
       "    <tr>\n",
       "      <th>25</th>\n",
       "      <td>home economics</td>\n",
       "      <td>1</td>\n",
       "      <td>0.7</td>\n",
       "    </tr>\n",
       "    <tr>\n",
       "      <th>26</th>\n",
       "      <td>literature in english</td>\n",
       "      <td>1</td>\n",
       "      <td>0.7</td>\n",
       "    </tr>\n",
       "    <tr>\n",
       "      <th>27</th>\n",
       "      <td>literature</td>\n",
       "      <td>1</td>\n",
       "      <td>0.7</td>\n",
       "    </tr>\n",
       "    <tr>\n",
       "      <th>28</th>\n",
       "      <td>cultural and creative art</td>\n",
       "      <td>1</td>\n",
       "      <td>0.7</td>\n",
       "    </tr>\n",
       "    <tr>\n",
       "      <th>29</th>\n",
       "      <td>data processing</td>\n",
       "      <td>1</td>\n",
       "      <td>0.7</td>\n",
       "    </tr>\n",
       "    <tr>\n",
       "      <th>30</th>\n",
       "      <td>islamic religion knowledge</td>\n",
       "      <td>1</td>\n",
       "      <td>0.7</td>\n",
       "    </tr>\n",
       "    <tr>\n",
       "      <th>31</th>\n",
       "      <td>international relations</td>\n",
       "      <td>1</td>\n",
       "      <td>0.7</td>\n",
       "    </tr>\n",
       "    <tr>\n",
       "      <th>32</th>\n",
       "      <td>business studies</td>\n",
       "      <td>1</td>\n",
       "      <td>0.7</td>\n",
       "    </tr>\n",
       "    <tr>\n",
       "      <th>33</th>\n",
       "      <td>numeracy</td>\n",
       "      <td>1</td>\n",
       "      <td>0.7</td>\n",
       "    </tr>\n",
       "    <tr>\n",
       "      <th>34</th>\n",
       "      <td>fishery</td>\n",
       "      <td>1</td>\n",
       "      <td>0.7</td>\n",
       "    </tr>\n",
       "    <tr>\n",
       "      <th>35</th>\n",
       "      <td>science</td>\n",
       "      <td>1</td>\n",
       "      <td>0.7</td>\n",
       "    </tr>\n",
       "    <tr>\n",
       "      <th>36</th>\n",
       "      <td>statisticss</td>\n",
       "      <td>1</td>\n",
       "      <td>0.7</td>\n",
       "    </tr>\n",
       "    <tr>\n",
       "      <th>37</th>\n",
       "      <td>introduction to building construction</td>\n",
       "      <td>1</td>\n",
       "      <td>0.7</td>\n",
       "    </tr>\n",
       "  </tbody>\n",
       "</table>\n",
       "</div>"
      ]
     },
     "execution_count": 142,
     "metadata": {},
     "output_type": "execute_result"
    }
   ],
   "execution_count": 142
  },
  {
   "metadata": {
    "ExecuteTime": {
     "end_time": "2024-09-19T06:16:21.816364Z",
     "start_time": "2024-09-19T06:16:21.812824Z"
    }
   },
   "cell_type": "code",
   "source": "data.head()",
   "id": "2a62132bdc032227",
   "outputs": [
    {
     "data": {
      "text/plain": [
       "            subject                       topic grade  curriculum_rating  \\\n",
       "0       mathematics                    Addition  JSS1                  5   \n",
       "1  computer science           Computer software   Ss1                  5   \n",
       "2           biology          Respiratory system  SSS2                  5   \n",
       "3       mathematics  Maths operations in base 2  Jss1                  3   \n",
       "4       mathematics                   Addition   JSS1                  1   \n",
       "\n",
       "                                  curriculum_comment  personalization_rating  \\\n",
       "0                                      Fit perfectly                       4   \n",
       "1                        The plan bis well detailed                        5   \n",
       "2  Gives me more insight about the topic. As a te...                       5   \n",
       "3                                                NaN                       3   \n",
       "4                                               Nonw                       1   \n",
       "\n",
       "                             personalization_comment clean_grade  \n",
       "0                                              Great        JSS1  \n",
       "1                            It easier to understand         SS1  \n",
       "2  It adds more knowledge and makes the students ...         SS2  \n",
       "3                                                NaN        JSS1  \n",
       "4                                               Nibe        JSS1  "
      ],
      "text/html": [
       "<div>\n",
       "<style scoped>\n",
       "    .dataframe tbody tr th:only-of-type {\n",
       "        vertical-align: middle;\n",
       "    }\n",
       "\n",
       "    .dataframe tbody tr th {\n",
       "        vertical-align: top;\n",
       "    }\n",
       "\n",
       "    .dataframe thead th {\n",
       "        text-align: right;\n",
       "    }\n",
       "</style>\n",
       "<table border=\"1\" class=\"dataframe\">\n",
       "  <thead>\n",
       "    <tr style=\"text-align: right;\">\n",
       "      <th></th>\n",
       "      <th>subject</th>\n",
       "      <th>topic</th>\n",
       "      <th>grade</th>\n",
       "      <th>curriculum_rating</th>\n",
       "      <th>curriculum_comment</th>\n",
       "      <th>personalization_rating</th>\n",
       "      <th>personalization_comment</th>\n",
       "      <th>clean_grade</th>\n",
       "    </tr>\n",
       "  </thead>\n",
       "  <tbody>\n",
       "    <tr>\n",
       "      <th>0</th>\n",
       "      <td>mathematics</td>\n",
       "      <td>Addition</td>\n",
       "      <td>JSS1</td>\n",
       "      <td>5</td>\n",
       "      <td>Fit perfectly</td>\n",
       "      <td>4</td>\n",
       "      <td>Great</td>\n",
       "      <td>JSS1</td>\n",
       "    </tr>\n",
       "    <tr>\n",
       "      <th>1</th>\n",
       "      <td>computer science</td>\n",
       "      <td>Computer software</td>\n",
       "      <td>Ss1</td>\n",
       "      <td>5</td>\n",
       "      <td>The plan bis well detailed</td>\n",
       "      <td>5</td>\n",
       "      <td>It easier to understand</td>\n",
       "      <td>SS1</td>\n",
       "    </tr>\n",
       "    <tr>\n",
       "      <th>2</th>\n",
       "      <td>biology</td>\n",
       "      <td>Respiratory system</td>\n",
       "      <td>SSS2</td>\n",
       "      <td>5</td>\n",
       "      <td>Gives me more insight about the topic. As a te...</td>\n",
       "      <td>5</td>\n",
       "      <td>It adds more knowledge and makes the students ...</td>\n",
       "      <td>SS2</td>\n",
       "    </tr>\n",
       "    <tr>\n",
       "      <th>3</th>\n",
       "      <td>mathematics</td>\n",
       "      <td>Maths operations in base 2</td>\n",
       "      <td>Jss1</td>\n",
       "      <td>3</td>\n",
       "      <td>NaN</td>\n",
       "      <td>3</td>\n",
       "      <td>NaN</td>\n",
       "      <td>JSS1</td>\n",
       "    </tr>\n",
       "    <tr>\n",
       "      <th>4</th>\n",
       "      <td>mathematics</td>\n",
       "      <td>Addition</td>\n",
       "      <td>JSS1</td>\n",
       "      <td>1</td>\n",
       "      <td>Nonw</td>\n",
       "      <td>1</td>\n",
       "      <td>Nibe</td>\n",
       "      <td>JSS1</td>\n",
       "    </tr>\n",
       "  </tbody>\n",
       "</table>\n",
       "</div>"
      ]
     },
     "execution_count": 143,
     "metadata": {},
     "output_type": "execute_result"
    }
   ],
   "execution_count": 143
  },
  {
   "metadata": {
    "ExecuteTime": {
     "end_time": "2024-09-19T06:16:21.884907Z",
     "start_time": "2024-09-19T06:16:21.882678Z"
    }
   },
   "cell_type": "code",
   "source": "### 3. Curriculum and Personalization Ratings",
   "id": "c516fb6f0fed84f6",
   "outputs": [],
   "execution_count": 144
  },
  {
   "metadata": {
    "ExecuteTime": {
     "end_time": "2024-09-19T06:16:22.106017Z",
     "start_time": "2024-09-19T06:16:21.949664Z"
    }
   },
   "cell_type": "code",
   "source": [
    "# Display the distribution of curriculum ratings\n",
    "plt.figure(figsize=(10, 6))\n",
    "data['curriculum_rating'].value_counts().sort_index().plot(kind='bar', color='skyblue')\n",
    "plt.title('Distribution of Curriculum Ratings')\n",
    "plt.xlabel('Curriculum Rating')\n",
    "plt.ylabel('Count')\n",
    "plt.show()\n",
    "\n",
    "# Display the distribution of personalization ratings\n",
    "plt.figure(figsize=(10, 6))\n",
    "data['personalization_rating'].value_counts().sort_index().plot(kind='bar', color='skyblue')\n",
    "plt.title('Distribution of Personalization Ratings')\n",
    "plt.xlabel('Personalization Rating')\n",
    "plt.ylabel('Count')\n",
    "plt.show()"
   ],
   "id": "3af5238a0741d513",
   "outputs": [
    {
     "data": {
      "text/plain": [
       "<Figure size 1000x600 with 1 Axes>"
      ],
      "image/png": "[encoded data removed]"
     },
     "metadata": {},
     "output_type": "display_data"
    },
    {
     "data": {
      "text/plain": [
       "<Figure size 1000x600 with 1 Axes>"
      ],
      "image/png": "[encoded data removed]"
     },
     "metadata": {},
     "output_type": "display_data"
    }
   ],
   "execution_count": 145
  },
  {
   "metadata": {},
   "cell_type": "markdown",
   "source": "### Exploratory Data Analysis",
   "id": "85b3d1f59369a018"
  },
  {
   "metadata": {
    "ExecuteTime": {
     "end_time": "2024-09-19T06:16:23.292678Z",
     "start_time": "2024-09-19T06:16:22.116521Z"
    }
   },
   "cell_type": "code",
   "source": [
    "import spacy\n",
    "from sklearn.feature_extraction.text import CountVectorizer\n",
    "from sklearn.decomposition import LatentDirichletAllocation\n",
    "import numpy as np\n",
    "\n",
    "# Load spaCy's small English model\n",
    "nlp = spacy.load('en_core_web_sm')\n",
    "\n",
    "# Stopwords from spaCy\n",
    "stop_words = nlp.Defaults.stop_words\n",
    "\n",
    "# Preprocessing function using spaCy\n",
    "def preprocess_text_spacy(text):\n",
    "    doc = nlp(text.lower())  # Process the text with spaCy\n",
    "    tokens = [token.text for token in doc if token.is_alpha and token.text not in stop_words]\n",
    "    return ' '.join(tokens)\n",
    "\n",
    "# Preprocess each column separately\n",
    "data['curriculum_comment'] = data['curriculum_comment'].fillna('').apply(preprocess_text_spacy)\n",
    "data['personalization_comment'] = data['personalization_comment'].fillna('').apply(preprocess_text_spacy)\n",
    "\n",
    "# Function for vectorization\n",
    "def vectorize_text(data, column):\n",
    "    vectorizer = CountVectorizer(max_df=0.95, min_df=2)\n",
    "    return vectorizer, vectorizer.fit_transform(data[column])\n",
    "\n",
    "# Vectorizing each feedback column\n",
    "vectorizer_curriculum_comment, curriculum_comment_matrix = vectorize_text(data, 'curriculum_comment')\n",
    "vectorizer_personalization_comment, personalization_comment_matrix = vectorize_text(data, 'personalization_comment')\n",
    "\n",
    "# Apply LDA for topic modeling\n",
    "def apply_lda(matrix, n_components=5):\n",
    "    lda = LatentDirichletAllocation(n_components=n_components, random_state=0)\n",
    "    lda.fit(matrix)\n",
    "    return lda\n",
    "\n",
    "lda_curriculum_comment = apply_lda(curriculum_comment_matrix)\n",
    "lda_personalization_comment = apply_lda(personalization_comment_matrix)\n",
    "\n",
    "# Function to get dominant topic per document\n",
    "def get_dominant_topic(lda_model, matrix):\n",
    "    topic_distributions = lda_model.transform(matrix)\n",
    "    return np.argmax(topic_distributions, axis=1)\n",
    "\n",
    "# Print top terms for each topic\n",
    "def print_top_terms(lda_model, vectorizer, n_top_words=10):\n",
    "    terms = vectorizer.get_feature_names_out()\n",
    "    for index, topic in enumerate(lda_model.components_):\n",
    "        print(f'Theme {index}:')\n",
    "        print([terms[i] for i in topic.argsort()[-n_top_words:]])\n",
    "    "
   ],
   "id": "ebf3157bc05da18e",
   "outputs": [],
   "execution_count": 146
  },
  {
   "metadata": {
    "ExecuteTime": {
     "end_time": "2024-09-19T06:16:23.330039Z",
     "start_time": "2024-09-19T06:16:23.323959Z"
    }
   },
   "cell_type": "code",
   "source": [
    "# Print themes for AI Expectations\n",
    "print(\"curriculum_comment Themes:\")\n",
    "print_top_terms(lda_curriculum_comment, vectorizer_curriculum_comment)\n",
    "\n",
    "# Get dominant topics for each feedback curriculum_comment\n",
    "curriculum_comment_dominant_topic = get_dominant_topic(lda_curriculum_comment, curriculum_comment_matrix)\n",
    "data['dominant_curriculum_comment_theme'] = curriculum_comment_dominant_topic\n",
    "\n",
    "# Display dominant topic counts\n",
    "curriculum_comment_theme_counts = data['dominant_curriculum_comment_theme'].value_counts()"
   ],
   "id": "7612cfe0fba4f8e",
   "outputs": [
    {
     "name": "stdout",
     "output_type": "stream",
     "text": [
      "curriculum_comment Themes:\n",
      "Theme 0:\n",
      "['students', 'perfectly', 'topic', 'student', 'subject', 'evaluation', 'aligned', 'objectives', 'lesson', 'plan']\n",
      "Theme 1:\n",
      "['best', 'subtopics', 'need', 'teacher', 'planned', 'covered', 'students', 'perfectly', 'lesson', 'plan']\n",
      "Theme 2:\n",
      "['order', 'know', 'teach', 'aligns', 'topic', 'objectives', 'content', 'good', 'plan', 'lesson']\n",
      "Theme 3:\n",
      "['learning', 'gave', 'ss', 'included', 'line', 'teaching', 'great', 'curriculum', 'scheme', 'work']\n",
      "Theme 4:\n",
      "['like', 'explanation', 'expectations', 'main', 'topic', 'inline', 'clearly', 'detailed', 'presented', 'amazing']\n"
     ]
    }
   ],
   "execution_count": 147
  },
  {
   "metadata": {
    "ExecuteTime": {
     "end_time": "2024-09-19T06:16:23.364991Z",
     "start_time": "2024-09-19T06:16:23.362270Z"
    }
   },
   "cell_type": "code",
   "source": [
    "# Display the themes along with their counts\n",
    "print(\"Dominating Curriculum Themes:\")\n",
    "\n",
    "# Create a mapping from theme index to terms\n",
    "terms_curriculum_comment = vectorizer_curriculum_comment.get_feature_names_out()\n",
    "for theme_idx, count in curriculum_comment_theme_counts.items():\n",
    "    top_terms = [terms_curriculum_comment[i] for i in lda_curriculum_comment.components_[theme_idx].argsort()[-10:]]\n",
    "    print(f\"Theme {theme_idx}: {' '.join(top_terms)} (Count: {count})\")"
   ],
   "id": "c9eaf033b15801df",
   "outputs": [
    {
     "name": "stdout",
     "output_type": "stream",
     "text": [
      "Dominating Curriculum Themes:\n",
      "Theme 0: students perfectly topic student subject evaluation aligned objectives lesson plan (Count: 76)\n",
      "Theme 2: order know teach aligns topic objectives content good plan lesson (Count: 22)\n",
      "Theme 1: best subtopics need teacher planned covered students perfectly lesson plan (Count: 18)\n",
      "Theme 4: like explanation expectations main topic inline clearly detailed presented amazing (Count: 13)\n",
      "Theme 3: learning gave ss included line teaching great curriculum scheme work (Count: 13)\n"
     ]
    }
   ],
   "execution_count": 148
  },
  {
   "metadata": {
    "ExecuteTime": {
     "end_time": "2024-09-19T06:16:23.544511Z",
     "start_time": "2024-09-19T06:16:23.401870Z"
    }
   },
   "cell_type": "code",
   "source": [
    "import matplotlib.pyplot as plt\n",
    "import seaborn as sns\n",
    "\n",
    "# Bar plot for theme counts\n",
    "theme_counts = data['dominant_curriculum_comment_theme'].value_counts()\n",
    "theme_counts.plot(kind='bar', title='Theme Counts for Curriculum Alignment Feedback')\n",
    "plt.show()\n",
    "\n",
    "# Heatmap for correlations\n",
    "correlation_matrix = data[['dominant_curriculum_comment_theme', 'curriculum_rating']].corr()\n",
    "sns.heatmap(correlation_matrix, annot=True)\n",
    "plt.show()"
   ],
   "id": "526822742bc93a41",
   "outputs": [
    {
     "data": {
      "text/plain": [
       "<Figure size 640x480 with 1 Axes>"
      ],
      "image/png": "[encoded data removed]"
     },
     "metadata": {},
     "output_type": "display_data"
    },
    {
     "data": {
      "text/plain": [
       "<Figure size 640x480 with 2 Axes>"
      ],
      "image/png": "[encoded data removed]"
     },
     "metadata": {},
     "output_type": "display_data"
    }
   ],
   "execution_count": 149
  },
  {
   "metadata": {
    "ExecuteTime": {
     "end_time": "2024-09-19T06:16:23.587362Z",
     "start_time": "2024-09-19T06:16:23.579759Z"
    }
   },
   "cell_type": "code",
   "source": [
    "# Print themes for Personalization\n",
    "print(\"personalization_comment Themes:\")\n",
    "print_top_terms(lda_personalization_comment, vectorizer_personalization_comment)\n",
    "\n",
    "# Get dominant topics for each feedback personalization_comment\n",
    "personalization_comment_dominant_topic = get_dominant_topic(lda_personalization_comment, personalization_comment_matrix)\n",
    "data['dominant_personalization_comment_theme'] = personalization_comment_dominant_topic\n",
    "\n",
    "# Display dominant topic counts\n",
    "personalization_comment_theme_counts = data['dominant_personalization_comment_theme'].value_counts()"
   ],
   "id": "66e83007093018cd",
   "outputs": [
    {
     "name": "stdout",
     "output_type": "stream",
     "text": [
      "personalization_comment Themes:\n",
      "Theme 0:\n",
      "['drug', 'critical', 'role', 'center', 'topic', 'classroom', 'activity', 'need', 'learning', 'students']\n",
      "Theme 1:\n",
      "['group', 'individual', 'explanation', 'idea', 'teaching', 'learners', 'work', 'room', 'centred', 'student']\n",
      "Theme 2:\n",
      "['adequate', 'understand', 'covered', 'needed', 'learner', 'centered', 'students', 'good', 'lesson', 'plan']\n",
      "Theme 3:\n",
      "['meet', 'centered', 'personalized', 'understand', 'understanding', 'class', 'good', 'activities', 'needs', 'students']\n",
      "Theme 4:\n",
      "['presentation', 'information', 'great', 'knowledge', 'pupils', 'plan', 'objectives', 'learning', 'students', 'lesson']\n"
     ]
    }
   ],
   "execution_count": 150
  },
  {
   "metadata": {
    "ExecuteTime": {
     "end_time": "2024-09-19T06:16:23.629989Z",
     "start_time": "2024-09-19T06:16:23.624854Z"
    }
   },
   "cell_type": "code",
   "source": [
    "# Display the themes along with their counts\n",
    "print(\"Dominating Personalization Themes:\")\n",
    "# Create a mapping from theme index to terms\n",
    "terms_personalization_comment = vectorizer_personalization_comment.get_feature_names_out()\n",
    "for theme_idx, count in personalization_comment_theme_counts.items():\n",
    "    top_terms = [terms_personalization_comment[i] for i in lda_personalization_comment.components_[theme_idx].argsort()[-10:]]\n",
    "    print(f\"Theme {theme_idx}: {' '.join(top_terms)} (Count: {count})\")\n"
   ],
   "id": "b10c9c9a4989e7f4",
   "outputs": [
    {
     "name": "stdout",
     "output_type": "stream",
     "text": [
      "Dominating Personalization Themes:\n",
      "Theme 0: drug critical role center topic classroom activity need learning students (Count: 86)\n",
      "Theme 4: presentation information great knowledge pupils plan objectives learning students lesson (Count: 20)\n",
      "Theme 2: adequate understand covered needed learner centered students good lesson plan (Count: 14)\n",
      "Theme 3: meet centered personalized understand understanding class good activities needs students (Count: 12)\n",
      "Theme 1: group individual explanation idea teaching learners work room centred student (Count: 10)\n"
     ]
    }
   ],
   "execution_count": 151
  },
  {
   "metadata": {
    "ExecuteTime": {
     "end_time": "2024-09-19T06:16:23.807786Z",
     "start_time": "2024-09-19T06:16:23.666039Z"
    }
   },
   "cell_type": "code",
   "source": [
    "import matplotlib.pyplot as plt\n",
    "import seaborn as sns\n",
    "\n",
    "# Bar plot for theme counts\n",
    "theme_counts = data['dominant_personalization_comment_theme'].value_counts()\n",
    "theme_counts.plot(kind='bar', title='Theme Counts for personalization Alignment Feedback')\n",
    "plt.show()\n",
    "\n",
    "# Heatmap for correlations\n",
    "correlation_matrix = data[['dominant_personalization_comment_theme', 'personalization_rating']].corr()\n",
    "sns.heatmap(correlation_matrix, annot=True)\n",
    "plt.show()"
   ],
   "id": "6fd060040de258be",
   "outputs": [
    {
     "data": {
      "text/plain": [
       "<Figure size 640x480 with 1 Axes>"
      ],
      "image/png": "[encoded data removed]"
     },
     "metadata": {},
     "output_type": "display_data"
    },
    {
     "data": {
      "text/plain": [
       "<Figure size 640x480 with 2 Axes>"
      ],
      "image/png": "[encoded data removed]"
     },
     "metadata": {},
     "output_type": "display_data"
    }
   ],
   "execution_count": 152
  },
  {
   "metadata": {},
   "cell_type": "markdown",
   "source": "### Descriptive Statistics",
   "id": "dd97a471326bee2a"
  },
  {
   "metadata": {
    "ExecuteTime": {
     "end_time": "2024-09-19T06:16:23.844761Z",
     "start_time": "2024-09-19T06:16:23.842533Z"
    }
   },
   "cell_type": "code",
   "source": "",
   "id": "ebcf57562441b3d5",
   "outputs": [],
   "execution_count": null
  },
  {
   "metadata": {
    "ExecuteTime": {
     "end_time": "2024-09-19T06:16:23.893320Z",
     "start_time": "2024-09-19T06:16:23.883325Z"
    }
   },
   "cell_type": "code",
   "source": [
    "import scipy.stats as stats\n",
    "\n",
    "# Checking correlation between dominant curriculum theme and subject\n",
    "correlation, p_value = stats.spearmanr(data['dominant_curriculum_comment_theme'],\n",
    "                                       data['subject'])\n",
    "\n",
    "print(f\"Spearman Correlation: {correlation}, P-value: {p_value}\")"
   ],
   "id": "c0425bd20cefdd62",
   "outputs": [
    {
     "name": "stdout",
     "output_type": "stream",
     "text": [
      "Spearman Correlation: -0.11038067092654248, P-value: 0.19097118674771688\n"
     ]
    }
   ],
   "execution_count": 153
  },
  {
   "metadata": {},
   "cell_type": "markdown",
   "source": "",
   "id": "edc1926db107387e"
  },
  {
   "metadata": {
    "ExecuteTime": {
     "end_time": "2024-09-19T06:16:23.943859Z",
     "start_time": "2024-09-19T06:16:23.938481Z"
    }
   },
   "cell_type": "code",
   "source": [
    "# Checking correlation between dominant curriculum theme and grade\n",
    "correlation, p_value = stats.spearmanr(data['dominant_curriculum_comment_theme'],\n",
    "                                       data['clean_grade'])\n",
    "\n",
    "print(f\"Spearman Correlation: {correlation}, P-value: {p_value}\")"
   ],
   "id": "ef919723abf9c0c5",
   "outputs": [
    {
     "name": "stdout",
     "output_type": "stream",
     "text": [
      "Spearman Correlation: 0.19122114312717284, P-value: 0.022631399335369763\n"
     ]
    }
   ],
   "execution_count": 154
  },
  {
   "metadata": {
    "ExecuteTime": {
     "end_time": "2024-09-19T06:16:24.004101Z",
     "start_time": "2024-09-19T06:16:23.997959Z"
    }
   },
   "cell_type": "code",
   "source": [
    "# Checking correlation between dominant personalization theme and subject\n",
    "correlation, p_value = stats.spearmanr(data['dominant_personalization_comment_theme'],\n",
    "                                       data['subject'])\n",
    "\n",
    "print(f\"Spearman Correlation: {correlation}, P-value: {p_value}\")"
   ],
   "id": "ecf77efa351d1113",
   "outputs": [
    {
     "name": "stdout",
     "output_type": "stream",
     "text": [
      "Spearman Correlation: -0.06458010755047289, P-value: 0.4451316223718803\n"
     ]
    }
   ],
   "execution_count": 155
  },
  {
   "metadata": {
    "ExecuteTime": {
     "end_time": "2024-09-19T06:16:24.043210Z",
     "start_time": "2024-09-19T06:16:24.039598Z"
    }
   },
   "cell_type": "code",
   "source": [
    "# Checking correlation between dominant personalization theme and grade\n",
    "correlation, p_value = stats.spearmanr(data['dominant_personalization_comment_theme'],\n",
    "                                       data['clean_grade'])\n",
    "\n",
    "print(f\"Spearman Correlation: {correlation}, P-value: {p_value}\")"
   ],
   "id": "1afbbc5380940f5",
   "outputs": [
    {
     "name": "stdout",
     "output_type": "stream",
     "text": [
      "Spearman Correlation: -0.02315938563017376, P-value: 0.7844125037740918\n"
     ]
    }
   ],
   "execution_count": 156
  },
  {
   "metadata": {},
   "cell_type": "markdown",
   "source": "### theme counts and heatmap",
   "id": "3967a2c759d8685a"
  },
  {
   "metadata": {
    "ExecuteTime": {
     "end_time": "2024-09-19T06:16:24.204398Z",
     "start_time": "2024-09-19T06:16:24.083888Z"
    }
   },
   "cell_type": "code",
   "source": [
    "import matplotlib.pyplot as plt\n",
    "import seaborn as sns\n",
    "\n",
    "# Bar plot for theme counts\n",
    "theme_counts = data['dominant_curriculum_comment_theme'].value_counts()\n",
    "theme_counts.plot(kind='bar', title='Theme Counts for curriculum_comment')\n",
    "plt.show()\n",
    "\n",
    "# Heatmap for correlations\n",
    "correlation_matrix = data[['dominant_curriculum_comment_theme', 'curriculum_rating']].corr()\n",
    "sns.heatmap(correlation_matrix, annot=True)\n",
    "plt.show()"
   ],
   "id": "dfb9ccd5fb6d2347",
   "outputs": [
    {
     "data": {
      "text/plain": [
       "<Figure size 640x480 with 1 Axes>"
      ],
      "image/png": "[encoded data removed]"
     },
     "metadata": {},
     "output_type": "display_data"
    },
    {
     "data": {
      "text/plain": [
       "<Figure size 640x480 with 2 Axes>"
      ],
      "image/png": "[encoded data removed]"
     },
     "metadata": {},
     "output_type": "display_data"
    }
   ],
   "execution_count": 157
  },
  {
   "metadata": {
    "ExecuteTime": {
     "end_time": "2024-09-19T06:16:24.246512Z",
     "start_time": "2024-09-19T06:16:24.240150Z"
    }
   },
   "cell_type": "code",
   "source": [
    "import pandas as pd\n",
    "data_clean = pd.DataFrame(data)\n",
    "data_clean"
   ],
   "id": "6dc3532c7c906e83",
   "outputs": [
    {
     "data": {
      "text/plain": [
       "                                   subject                         topic  \\\n",
       "0                              mathematics                      Addition   \n",
       "1                         computer science             Computer software   \n",
       "2                                  biology            Respiratory system   \n",
       "3                              mathematics    Maths operations in base 2   \n",
       "4                              mathematics                     Addition    \n",
       "..                                     ...                           ...   \n",
       "137                   agricultural science     Environmental physiology    \n",
       "138                                english               Irregular Verbs   \n",
       "139                      technical drawing  Free hand sketching drawing    \n",
       "140                          media studies                  Media theory   \n",
       "141  introduction to building construction     Setting out of a building   \n",
       "\n",
       "         grade  curriculum_rating  \\\n",
       "0         JSS1                  5   \n",
       "1          Ss1                  5   \n",
       "2         SSS2                  5   \n",
       "3         Jss1                  3   \n",
       "4         JSS1                  1   \n",
       "..         ...                ...   \n",
       "137        SS2                  1   \n",
       "138        JS2                  5   \n",
       "139        Ss3                  4   \n",
       "140  12c Media                  2   \n",
       "141        SS1                  4   \n",
       "\n",
       "                                    curriculum_comment  \\\n",
       "0                                        fit perfectly   \n",
       "1                                    plan bis detailed   \n",
       "2         gives insight topic teacher helps teach know   \n",
       "3                                                        \n",
       "4                                                 nonw   \n",
       "..                                                 ...   \n",
       "137  environmental physiology agricultural science ...   \n",
       "138  works actual guide introducing lesson followin...   \n",
       "139                                                      \n",
       "140       fairly generic match exam board requirements   \n",
       "141                                                      \n",
       "\n",
       "     personalization_rating  \\\n",
       "0                         4   \n",
       "1                         5   \n",
       "2                         5   \n",
       "3                         3   \n",
       "4                         1   \n",
       "..                      ...   \n",
       "137                       2   \n",
       "138                       4   \n",
       "139                       5   \n",
       "140                       2   \n",
       "141                       3   \n",
       "\n",
       "                               personalization_comment clean_grade  \\\n",
       "0                                                great        JSS1   \n",
       "1                                    easier understand         SS1   \n",
       "2     adds knowledge makes students stand learning use         SS2   \n",
       "3                                                             JSS1   \n",
       "4                                                 nibe        JSS1   \n",
       "..                                                 ...         ...   \n",
       "137  account collaboration critical thinking skills...         SS2   \n",
       "138  pupils ability differ impossible lesson intern...        JSS2   \n",
       "139                                                            SS3   \n",
       "140                                            generic   12C MEDIA   \n",
       "141                                                            SS1   \n",
       "\n",
       "     dominant_curriculum_comment_theme  dominant_personalization_comment_theme  \n",
       "0                                    1                                       4  \n",
       "1                                    4                                       3  \n",
       "2                                    2                                       4  \n",
       "3                                    0                                       0  \n",
       "4                                    0                                       0  \n",
       "..                                 ...                                     ...  \n",
       "137                                  0                                       0  \n",
       "138                                  2                                       4  \n",
       "139                                  0                                       0  \n",
       "140                                  1                                       0  \n",
       "141                                  0                                       0  \n",
       "\n",
       "[142 rows x 10 columns]"
      ],
      "text/html": [
       "<div>\n",
       "<style scoped>\n",
       "    .dataframe tbody tr th:only-of-type {\n",
       "        vertical-align: middle;\n",
       "    }\n",
       "\n",
       "    .dataframe tbody tr th {\n",
       "        vertical-align: top;\n",
       "    }\n",
       "\n",
       "    .dataframe thead th {\n",
       "        text-align: right;\n",
       "    }\n",
       "</style>\n",
       "<table border=\"1\" class=\"dataframe\">\n",
       "  <thead>\n",
       "    <tr style=\"text-align: right;\">\n",
       "      <th></th>\n",
       "      <th>subject</th>\n",
       "      <th>topic</th>\n",
       "      <th>grade</th>\n",
       "      <th>curriculum_rating</th>\n",
       "      <th>curriculum_comment</th>\n",
       "      <th>personalization_rating</th>\n",
       "      <th>personalization_comment</th>\n",
       "      <th>clean_grade</th>\n",
       "      <th>dominant_curriculum_comment_theme</th>\n",
       "      <th>dominant_personalization_comment_theme</th>\n",
       "    </tr>\n",
       "  </thead>\n",
       "  <tbody>\n",
       "    <tr>\n",
       "      <th>0</th>\n",
       "      <td>mathematics</td>\n",
       "      <td>Addition</td>\n",
       "      <td>JSS1</td>\n",
       "      <td>5</td>\n",
       "      <td>fit perfectly</td>\n",
       "      <td>4</td>\n",
       "      <td>great</td>\n",
       "      <td>JSS1</td>\n",
       "      <td>1</td>\n",
       "      <td>4</td>\n",
       "    </tr>\n",
       "    <tr>\n",
       "      <th>1</th>\n",
       "      <td>computer science</td>\n",
       "      <td>Computer software</td>\n",
       "      <td>Ss1</td>\n",
       "      <td>5</td>\n",
       "      <td>plan bis detailed</td>\n",
       "      <td>5</td>\n",
       "      <td>easier understand</td>\n",
       "      <td>SS1</td>\n",
       "      <td>4</td>\n",
       "      <td>3</td>\n",
       "    </tr>\n",
       "    <tr>\n",
       "      <th>2</th>\n",
       "      <td>biology</td>\n",
       "      <td>Respiratory system</td>\n",
       "      <td>SSS2</td>\n",
       "      <td>5</td>\n",
       "      <td>gives insight topic teacher helps teach know</td>\n",
       "      <td>5</td>\n",
       "      <td>adds knowledge makes students stand learning use</td>\n",
       "      <td>SS2</td>\n",
       "      <td>2</td>\n",
       "      <td>4</td>\n",
       "    </tr>\n",
       "    <tr>\n",
       "      <th>3</th>\n",
       "      <td>mathematics</td>\n",
       "      <td>Maths operations in base 2</td>\n",
       "      <td>Jss1</td>\n",
       "      <td>3</td>\n",
       "      <td></td>\n",
       "      <td>3</td>\n",
       "      <td></td>\n",
       "      <td>JSS1</td>\n",
       "      <td>0</td>\n",
       "      <td>0</td>\n",
       "    </tr>\n",
       "    <tr>\n",
       "      <th>4</th>\n",
       "      <td>mathematics</td>\n",
       "      <td>Addition</td>\n",
       "      <td>JSS1</td>\n",
       "      <td>1</td>\n",
       "      <td>nonw</td>\n",
       "      <td>1</td>\n",
       "      <td>nibe</td>\n",
       "      <td>JSS1</td>\n",
       "      <td>0</td>\n",
       "      <td>0</td>\n",
       "    </tr>\n",
       "    <tr>\n",
       "      <th>...</th>\n",
       "      <td>...</td>\n",
       "      <td>...</td>\n",
       "      <td>...</td>\n",
       "      <td>...</td>\n",
       "      <td>...</td>\n",
       "      <td>...</td>\n",
       "      <td>...</td>\n",
       "      <td>...</td>\n",
       "      <td>...</td>\n",
       "      <td>...</td>\n",
       "    </tr>\n",
       "    <tr>\n",
       "      <th>137</th>\n",
       "      <td>agricultural science</td>\n",
       "      <td>Environmental physiology</td>\n",
       "      <td>SS2</td>\n",
       "      <td>1</td>\n",
       "      <td>environmental physiology agricultural science ...</td>\n",
       "      <td>2</td>\n",
       "      <td>account collaboration critical thinking skills...</td>\n",
       "      <td>SS2</td>\n",
       "      <td>0</td>\n",
       "      <td>0</td>\n",
       "    </tr>\n",
       "    <tr>\n",
       "      <th>138</th>\n",
       "      <td>english</td>\n",
       "      <td>Irregular Verbs</td>\n",
       "      <td>JS2</td>\n",
       "      <td>5</td>\n",
       "      <td>works actual guide introducing lesson followin...</td>\n",
       "      <td>4</td>\n",
       "      <td>pupils ability differ impossible lesson intern...</td>\n",
       "      <td>JSS2</td>\n",
       "      <td>2</td>\n",
       "      <td>4</td>\n",
       "    </tr>\n",
       "    <tr>\n",
       "      <th>139</th>\n",
       "      <td>technical drawing</td>\n",
       "      <td>Free hand sketching drawing</td>\n",
       "      <td>Ss3</td>\n",
       "      <td>4</td>\n",
       "      <td></td>\n",
       "      <td>5</td>\n",
       "      <td></td>\n",
       "      <td>SS3</td>\n",
       "      <td>0</td>\n",
       "      <td>0</td>\n",
       "    </tr>\n",
       "    <tr>\n",
       "      <th>140</th>\n",
       "      <td>media studies</td>\n",
       "      <td>Media theory</td>\n",
       "      <td>12c Media</td>\n",
       "      <td>2</td>\n",
       "      <td>fairly generic match exam board requirements</td>\n",
       "      <td>2</td>\n",
       "      <td>generic</td>\n",
       "      <td>12C MEDIA</td>\n",
       "      <td>1</td>\n",
       "      <td>0</td>\n",
       "    </tr>\n",
       "    <tr>\n",
       "      <th>141</th>\n",
       "      <td>introduction to building construction</td>\n",
       "      <td>Setting out of a building</td>\n",
       "      <td>SS1</td>\n",
       "      <td>4</td>\n",
       "      <td></td>\n",
       "      <td>3</td>\n",
       "      <td></td>\n",
       "      <td>SS1</td>\n",
       "      <td>0</td>\n",
       "      <td>0</td>\n",
       "    </tr>\n",
       "  </tbody>\n",
       "</table>\n",
       "<p>142 rows × 10 columns</p>\n",
       "</div>"
      ]
     },
     "execution_count": 158,
     "metadata": {},
     "output_type": "execute_result"
    }
   ],
   "execution_count": 158
  },
  {
   "metadata": {},
   "cell_type": "markdown",
   "source": "### Descriptive Statistics",
   "id": "3cd40a953b6adea0"
  },
  {
   "metadata": {
    "ExecuteTime": {
     "end_time": "2024-09-19T06:16:24.310458Z",
     "start_time": "2024-09-19T06:16:24.304367Z"
    }
   },
   "cell_type": "code",
   "source": [
    "# Summarize mean, median, mode, standard deviation, and distribution of curriculum and personalization ratings\n",
    "desc_stats = data_clean[['curriculum_rating', 'personalization_rating']].describe()\n",
    "print(desc_stats)"
   ],
   "id": "5a4b606f9493120f",
   "outputs": [
    {
     "name": "stdout",
     "output_type": "stream",
     "text": [
      "       curriculum_rating  personalization_rating\n",
      "count         142.000000              142.000000\n",
      "mean            3.866197                3.978873\n",
      "std             1.168310                1.061701\n",
      "min             1.000000                1.000000\n",
      "25%             3.000000                3.000000\n",
      "50%             4.000000                4.000000\n",
      "75%             5.000000                5.000000\n",
      "max             5.000000                5.000000\n"
     ]
    }
   ],
   "execution_count": 159
  },
  {
   "metadata": {
    "ExecuteTime": {
     "end_time": "2024-09-19T06:16:24.384301Z",
     "start_time": "2024-09-19T06:16:24.380032Z"
    }
   },
   "cell_type": "code",
   "source": [
    "# Calculate mode for curriculum and personalization ratings\n",
    "mode_curriculum_rating = data_clean['curriculum_rating'].mode()[0]\n",
    "mode_personalization_rating = data_clean['personalization_rating'].mode()[0]\n",
    "print(f\"Mode of Curriculum Rating: {mode_curriculum_rating}\")\n",
    "print(f\"Mode of Personalization Rating: {mode_personalization_rating}\")"
   ],
   "id": "3a434a38bb2d4f3e",
   "outputs": [
    {
     "name": "stdout",
     "output_type": "stream",
     "text": [
      "Mode of Curriculum Rating: 5\n",
      "Mode of Personalization Rating: 5\n"
     ]
    }
   ],
   "execution_count": 160
  },
  {
   "metadata": {
    "ExecuteTime": {
     "end_time": "2024-09-19T06:16:24.437900Z",
     "start_time": "2024-09-19T06:16:24.430237Z"
    }
   },
   "cell_type": "code",
   "source": [
    "# Frequency distribution of different graded and their curriculum ratings\n",
    "frequency_distribution = data_clean.groupby('clean_grade')[['curriculum_rating']].value_counts().unstack(fill_value=0)\n",
    "frequency_distribution"
   ],
   "id": "f576a23cf454b812",
   "outputs": [
    {
     "data": {
      "text/plain": [
       "curriculum_rating     1  2  3  4   5\n",
       "clean_grade                         \n",
       "12C MEDIA             0  1  0  0   0\n",
       "BASIC 3               0  0  0  0   1\n",
       "JSS1                  2  0  4  4   8\n",
       "JSS2                  0  1  1  4  10\n",
       "JSS3                  0  2  4  4   5\n",
       "PRE SCHOOL 1          0  0  1  0   0\n",
       "PREP 1                1  0  0  0   0\n",
       "PRIMARY 2             0  2  0  0   1\n",
       "PRIMARY 3             0  0  1  0   3\n",
       "PRIMARY 4             0  0  2  0   1\n",
       "PRIMARY 5             0  1  2  3   2\n",
       "PRIMARY 6             0  0  0  0   1\n",
       "SS1                   2  1  5  9  12\n",
       "SS2                   2  2  3  9   8\n",
       "SS3                   0  2  6  5   3\n",
       "UNIVERSITY LEVEL 300  0  0  0  1   0"
      ],
      "text/html": [
       "<div>\n",
       "<style scoped>\n",
       "    .dataframe tbody tr th:only-of-type {\n",
       "        vertical-align: middle;\n",
       "    }\n",
       "\n",
       "    .dataframe tbody tr th {\n",
       "        vertical-align: top;\n",
       "    }\n",
       "\n",
       "    .dataframe thead th {\n",
       "        text-align: right;\n",
       "    }\n",
       "</style>\n",
       "<table border=\"1\" class=\"dataframe\">\n",
       "  <thead>\n",
       "    <tr style=\"text-align: right;\">\n",
       "      <th>curriculum_rating</th>\n",
       "      <th>1</th>\n",
       "      <th>2</th>\n",
       "      <th>3</th>\n",
       "      <th>4</th>\n",
       "      <th>5</th>\n",
       "    </tr>\n",
       "    <tr>\n",
       "      <th>clean_grade</th>\n",
       "      <th></th>\n",
       "      <th></th>\n",
       "      <th></th>\n",
       "      <th></th>\n",
       "      <th></th>\n",
       "    </tr>\n",
       "  </thead>\n",
       "  <tbody>\n",
       "    <tr>\n",
       "      <th>12C MEDIA</th>\n",
       "      <td>0</td>\n",
       "      <td>1</td>\n",
       "      <td>0</td>\n",
       "      <td>0</td>\n",
       "      <td>0</td>\n",
       "    </tr>\n",
       "    <tr>\n",
       "      <th>BASIC 3</th>\n",
       "      <td>0</td>\n",
       "      <td>0</td>\n",
       "      <td>0</td>\n",
       "      <td>0</td>\n",
       "      <td>1</td>\n",
       "    </tr>\n",
       "    <tr>\n",
       "      <th>JSS1</th>\n",
       "      <td>2</td>\n",
       "      <td>0</td>\n",
       "      <td>4</td>\n",
       "      <td>4</td>\n",
       "      <td>8</td>\n",
       "    </tr>\n",
       "    <tr>\n",
       "      <th>JSS2</th>\n",
       "      <td>0</td>\n",
       "      <td>1</td>\n",
       "      <td>1</td>\n",
       "      <td>4</td>\n",
       "      <td>10</td>\n",
       "    </tr>\n",
       "    <tr>\n",
       "      <th>JSS3</th>\n",
       "      <td>0</td>\n",
       "      <td>2</td>\n",
       "      <td>4</td>\n",
       "      <td>4</td>\n",
       "      <td>5</td>\n",
       "    </tr>\n",
       "    <tr>\n",
       "      <th>PRE SCHOOL 1</th>\n",
       "      <td>0</td>\n",
       "      <td>0</td>\n",
       "      <td>1</td>\n",
       "      <td>0</td>\n",
       "      <td>0</td>\n",
       "    </tr>\n",
       "    <tr>\n",
       "      <th>PREP 1</th>\n",
       "      <td>1</td>\n",
       "      <td>0</td>\n",
       "      <td>0</td>\n",
       "      <td>0</td>\n",
       "      <td>0</td>\n",
       "    </tr>\n",
       "    <tr>\n",
       "      <th>PRIMARY 2</th>\n",
       "      <td>0</td>\n",
       "      <td>2</td>\n",
       "      <td>0</td>\n",
       "      <td>0</td>\n",
       "      <td>1</td>\n",
       "    </tr>\n",
       "    <tr>\n",
       "      <th>PRIMARY 3</th>\n",
       "      <td>0</td>\n",
       "      <td>0</td>\n",
       "      <td>1</td>\n",
       "      <td>0</td>\n",
       "      <td>3</td>\n",
       "    </tr>\n",
       "    <tr>\n",
       "      <th>PRIMARY 4</th>\n",
       "      <td>0</td>\n",
       "      <td>0</td>\n",
       "      <td>2</td>\n",
       "      <td>0</td>\n",
       "      <td>1</td>\n",
       "    </tr>\n",
       "    <tr>\n",
       "      <th>PRIMARY 5</th>\n",
       "      <td>0</td>\n",
       "      <td>1</td>\n",
       "      <td>2</td>\n",
       "      <td>3</td>\n",
       "      <td>2</td>\n",
       "    </tr>\n",
       "    <tr>\n",
       "      <th>PRIMARY 6</th>\n",
       "      <td>0</td>\n",
       "      <td>0</td>\n",
       "      <td>0</td>\n",
       "      <td>0</td>\n",
       "      <td>1</td>\n",
       "    </tr>\n",
       "    <tr>\n",
       "      <th>SS1</th>\n",
       "      <td>2</td>\n",
       "      <td>1</td>\n",
       "      <td>5</td>\n",
       "      <td>9</td>\n",
       "      <td>12</td>\n",
       "    </tr>\n",
       "    <tr>\n",
       "      <th>SS2</th>\n",
       "      <td>2</td>\n",
       "      <td>2</td>\n",
       "      <td>3</td>\n",
       "      <td>9</td>\n",
       "      <td>8</td>\n",
       "    </tr>\n",
       "    <tr>\n",
       "      <th>SS3</th>\n",
       "      <td>0</td>\n",
       "      <td>2</td>\n",
       "      <td>6</td>\n",
       "      <td>5</td>\n",
       "      <td>3</td>\n",
       "    </tr>\n",
       "    <tr>\n",
       "      <th>UNIVERSITY LEVEL 300</th>\n",
       "      <td>0</td>\n",
       "      <td>0</td>\n",
       "      <td>0</td>\n",
       "      <td>1</td>\n",
       "      <td>0</td>\n",
       "    </tr>\n",
       "  </tbody>\n",
       "</table>\n",
       "</div>"
      ]
     },
     "execution_count": 161,
     "metadata": {},
     "output_type": "execute_result"
    }
   ],
   "execution_count": 161
  },
  {
   "metadata": {
    "ExecuteTime": {
     "end_time": "2024-09-19T06:16:24.490133Z",
     "start_time": "2024-09-19T06:16:24.484738Z"
    }
   },
   "cell_type": "code",
   "source": [
    "# Frequency distribution of different graded and their personalization ratings\n",
    "frequency_distribution = data_clean.groupby('clean_grade')[['personalization_rating']].value_counts().unstack(fill_value=0)\n",
    "frequency_distribution"
   ],
   "id": "859b7377cd5d9ba5",
   "outputs": [
    {
     "data": {
      "text/plain": [
       "personalization_rating  1  2  3   4   5\n",
       "clean_grade                            \n",
       "12C MEDIA               0  1  0   0   0\n",
       "BASIC 3                 0  0  0   1   0\n",
       "JSS1                    1  0  4   5   8\n",
       "JSS2                    0  0  1   6   9\n",
       "JSS3                    0  0  5   4   6\n",
       "PRE SCHOOL 1            0  0  1   0   0\n",
       "PREP 1                  1  0  0   0   0\n",
       "PRIMARY 2               0  2  0   0   1\n",
       "PRIMARY 3               0  0  0   1   3\n",
       "PRIMARY 4               0  0  1   1   1\n",
       "PRIMARY 5               0  0  2   2   4\n",
       "PRIMARY 6               0  0  0   1   0\n",
       "SS1                     2  1  5  11  10\n",
       "SS2                     1  2  3   9   9\n",
       "SS3                     0  2  5   5   4\n",
       "UNIVERSITY LEVEL 300    0  0  0   1   0"
      ],
      "text/html": [
       "<div>\n",
       "<style scoped>\n",
       "    .dataframe tbody tr th:only-of-type {\n",
       "        vertical-align: middle;\n",
       "    }\n",
       "\n",
       "    .dataframe tbody tr th {\n",
       "        vertical-align: top;\n",
       "    }\n",
       "\n",
       "    .dataframe thead th {\n",
       "        text-align: right;\n",
       "    }\n",
       "</style>\n",
       "<table border=\"1\" class=\"dataframe\">\n",
       "  <thead>\n",
       "    <tr style=\"text-align: right;\">\n",
       "      <th>personalization_rating</th>\n",
       "      <th>1</th>\n",
       "      <th>2</th>\n",
       "      <th>3</th>\n",
       "      <th>4</th>\n",
       "      <th>5</th>\n",
       "    </tr>\n",
       "    <tr>\n",
       "      <th>clean_grade</th>\n",
       "      <th></th>\n",
       "      <th></th>\n",
       "      <th></th>\n",
       "      <th></th>\n",
       "      <th></th>\n",
       "    </tr>\n",
       "  </thead>\n",
       "  <tbody>\n",
       "    <tr>\n",
       "      <th>12C MEDIA</th>\n",
       "      <td>0</td>\n",
       "      <td>1</td>\n",
       "      <td>0</td>\n",
       "      <td>0</td>\n",
       "      <td>0</td>\n",
       "    </tr>\n",
       "    <tr>\n",
       "      <th>BASIC 3</th>\n",
       "      <td>0</td>\n",
       "      <td>0</td>\n",
       "      <td>0</td>\n",
       "      <td>1</td>\n",
       "      <td>0</td>\n",
       "    </tr>\n",
       "    <tr>\n",
       "      <th>JSS1</th>\n",
       "      <td>1</td>\n",
       "      <td>0</td>\n",
       "      <td>4</td>\n",
       "      <td>5</td>\n",
       "      <td>8</td>\n",
       "    </tr>\n",
       "    <tr>\n",
       "      <th>JSS2</th>\n",
       "      <td>0</td>\n",
       "      <td>0</td>\n",
       "      <td>1</td>\n",
       "      <td>6</td>\n",
       "      <td>9</td>\n",
       "    </tr>\n",
       "    <tr>\n",
       "      <th>JSS3</th>\n",
       "      <td>0</td>\n",
       "      <td>0</td>\n",
       "      <td>5</td>\n",
       "      <td>4</td>\n",
       "      <td>6</td>\n",
       "    </tr>\n",
       "    <tr>\n",
       "      <th>PRE SCHOOL 1</th>\n",
       "      <td>0</td>\n",
       "      <td>0</td>\n",
       "      <td>1</td>\n",
       "      <td>0</td>\n",
       "      <td>0</td>\n",
       "    </tr>\n",
       "    <tr>\n",
       "      <th>PREP 1</th>\n",
       "      <td>1</td>\n",
       "      <td>0</td>\n",
       "      <td>0</td>\n",
       "      <td>0</td>\n",
       "      <td>0</td>\n",
       "    </tr>\n",
       "    <tr>\n",
       "      <th>PRIMARY 2</th>\n",
       "      <td>0</td>\n",
       "      <td>2</td>\n",
       "      <td>0</td>\n",
       "      <td>0</td>\n",
       "      <td>1</td>\n",
       "    </tr>\n",
       "    <tr>\n",
       "      <th>PRIMARY 3</th>\n",
       "      <td>0</td>\n",
       "      <td>0</td>\n",
       "      <td>0</td>\n",
       "      <td>1</td>\n",
       "      <td>3</td>\n",
       "    </tr>\n",
       "    <tr>\n",
       "      <th>PRIMARY 4</th>\n",
       "      <td>0</td>\n",
       "      <td>0</td>\n",
       "      <td>1</td>\n",
       "      <td>1</td>\n",
       "      <td>1</td>\n",
       "    </tr>\n",
       "    <tr>\n",
       "      <th>PRIMARY 5</th>\n",
       "      <td>0</td>\n",
       "      <td>0</td>\n",
       "      <td>2</td>\n",
       "      <td>2</td>\n",
       "      <td>4</td>\n",
       "    </tr>\n",
       "    <tr>\n",
       "      <th>PRIMARY 6</th>\n",
       "      <td>0</td>\n",
       "      <td>0</td>\n",
       "      <td>0</td>\n",
       "      <td>1</td>\n",
       "      <td>0</td>\n",
       "    </tr>\n",
       "    <tr>\n",
       "      <th>SS1</th>\n",
       "      <td>2</td>\n",
       "      <td>1</td>\n",
       "      <td>5</td>\n",
       "      <td>11</td>\n",
       "      <td>10</td>\n",
       "    </tr>\n",
       "    <tr>\n",
       "      <th>SS2</th>\n",
       "      <td>1</td>\n",
       "      <td>2</td>\n",
       "      <td>3</td>\n",
       "      <td>9</td>\n",
       "      <td>9</td>\n",
       "    </tr>\n",
       "    <tr>\n",
       "      <th>SS3</th>\n",
       "      <td>0</td>\n",
       "      <td>2</td>\n",
       "      <td>5</td>\n",
       "      <td>5</td>\n",
       "      <td>4</td>\n",
       "    </tr>\n",
       "    <tr>\n",
       "      <th>UNIVERSITY LEVEL 300</th>\n",
       "      <td>0</td>\n",
       "      <td>0</td>\n",
       "      <td>0</td>\n",
       "      <td>1</td>\n",
       "      <td>0</td>\n",
       "    </tr>\n",
       "  </tbody>\n",
       "</table>\n",
       "</div>"
      ]
     },
     "execution_count": 162,
     "metadata": {},
     "output_type": "execute_result"
    }
   ],
   "execution_count": 162
  },
  {
   "metadata": {
    "ExecuteTime": {
     "end_time": "2024-09-19T06:16:24.719049Z",
     "start_time": "2024-09-19T06:16:24.550458Z"
    }
   },
   "cell_type": "code",
   "source": [
    "# Plot the frequency distribution of curriculum and personalization ratings by grade\n",
    "import matplotlib.pyplot as plt\n",
    "import seaborn as sns\n",
    "\n",
    "# Set up the plotting area\n",
    "plt.figure(figsize=(10, 6))\n",
    "\n",
    "# Plot frequency distribution for curriculum ratings\n",
    "sns.countplot(data=data_clean, x='curriculum_rating', hue='clean_grade')\n",
    "plt.title('Frequency Distribution of Curriculum Ratings by grade')\n",
    "plt.xlabel('Curriculum Rating')\n",
    "plt.ylabel('Count')\n",
    "plt.legend(title='Grade')\n",
    "plt.show()"
   ],
   "id": "ae0700557ab8c4f1",
   "outputs": [
    {
     "data": {
      "text/plain": [
       "<Figure size 1000x600 with 1 Axes>"
      ],
      "image/png": "[encoded data removed]"
     },
     "metadata": {},
     "output_type": "display_data"
    }
   ],
   "execution_count": 163
  },
  {
   "metadata": {
    "ExecuteTime": {
     "end_time": "2024-09-19T06:16:25.138523Z",
     "start_time": "2024-09-19T06:16:24.957095Z"
    }
   },
   "cell_type": "code",
   "source": [
    "# Plot the frequency distribution of curriculum and personalization ratings by grade\n",
    "# Set up a new plotting area for personalization ratings\n",
    "plt.figure(figsize=(10, 6))\n",
    "\n",
    "# Plot frequency distribution for personalization ratings\n",
    "sns.countplot(data=data_clean, x='personalization_rating', hue='clean_grade')\n",
    "plt.title('Frequency Distribution of Personalization Ratings by grade')\n",
    "plt.xlabel('Personalization Rating')\n",
    "plt.ylabel('Count')\n",
    "plt.legend(title='Grade')\n",
    "plt.show()"
   ],
   "id": "c8ec8c6ed388dd9b",
   "outputs": [
    {
     "data": {
      "text/plain": [
       "<Figure size 1000x600 with 1 Axes>"
      ],
      "image/png": "[encoded data removed]"
     },
     "metadata": {},
     "output_type": "display_data"
    }
   ],
   "execution_count": 164
  },
  {
   "metadata": {},
   "cell_type": "markdown",
   "source": "### Subject and curriculum/personalization ratings",
   "id": "b17d829d05025822"
  },
  {
   "metadata": {
    "ExecuteTime": {
     "end_time": "2024-09-19T06:16:25.397211Z",
     "start_time": "2024-09-19T06:16:25.156805Z"
    }
   },
   "cell_type": "code",
   "source": [
    "# Plot the frequency distribution of curriculum and personalization ratings by grade\n",
    "import matplotlib.pyplot as plt\n",
    "import seaborn as sns\n",
    "\n",
    "# Set up the plotting area\n",
    "plt.figure(figsize=(10, 6))\n",
    "\n",
    "# Plot frequency distribution for curriculum ratings\n",
    "sns.countplot(data=data_clean, x='curriculum_rating', hue='subject')\n",
    "plt.title('Frequency Distribution of Curriculum Ratings by subject')\n",
    "plt.xlabel('Curriculum Rating')\n",
    "plt.ylabel('Count')\n",
    "plt.legend(title='subject')\n",
    "plt.show()"
   ],
   "id": "98f0a01b30233deb",
   "outputs": [
    {
     "data": {
      "text/plain": [
       "<Figure size 1000x600 with 1 Axes>"
      ],
      "image/png": "[encoded data removed]"
     },
     "metadata": {},
     "output_type": "display_data"
    }
   ],
   "execution_count": 165
  },
  {
   "metadata": {
    "ExecuteTime": {
     "end_time": "2024-09-19T06:16:25.438406Z",
     "start_time": "2024-09-19T06:16:25.431961Z"
    }
   },
   "cell_type": "code",
   "source": [
    "correlation_curriculum_personalization = data[['curriculum_rating', 'personalization_rating']].corr()\n",
    "\n",
    "# Display the correlation matrix\n",
    "correlation_curriculum_personalization"
   ],
   "id": "e7c600293d19c0db",
   "outputs": [
    {
     "data": {
      "text/plain": [
       "                        curriculum_rating  personalization_rating\n",
       "curriculum_rating                1.000000                0.843922\n",
       "personalization_rating           0.843922                1.000000"
      ],
      "text/html": [
       "<div>\n",
       "<style scoped>\n",
       "    .dataframe tbody tr th:only-of-type {\n",
       "        vertical-align: middle;\n",
       "    }\n",
       "\n",
       "    .dataframe tbody tr th {\n",
       "        vertical-align: top;\n",
       "    }\n",
       "\n",
       "    .dataframe thead th {\n",
       "        text-align: right;\n",
       "    }\n",
       "</style>\n",
       "<table border=\"1\" class=\"dataframe\">\n",
       "  <thead>\n",
       "    <tr style=\"text-align: right;\">\n",
       "      <th></th>\n",
       "      <th>curriculum_rating</th>\n",
       "      <th>personalization_rating</th>\n",
       "    </tr>\n",
       "  </thead>\n",
       "  <tbody>\n",
       "    <tr>\n",
       "      <th>curriculum_rating</th>\n",
       "      <td>1.000000</td>\n",
       "      <td>0.843922</td>\n",
       "    </tr>\n",
       "    <tr>\n",
       "      <th>personalization_rating</th>\n",
       "      <td>0.843922</td>\n",
       "      <td>1.000000</td>\n",
       "    </tr>\n",
       "  </tbody>\n",
       "</table>\n",
       "</div>"
      ]
     },
     "execution_count": 166,
     "metadata": {},
     "output_type": "execute_result"
    }
   ],
   "execution_count": 166
  },
  {
   "metadata": {
    "ExecuteTime": {
     "end_time": "2024-09-19T06:16:25.501356Z",
     "start_time": "2024-09-19T06:16:25.493992Z"
    }
   },
   "cell_type": "code",
   "source": [
    "correlation_curriculum_personalization = data[['curriculum_rating', 'personalization_rating']].corr(method='spearman')\n",
    "\n",
    "# Display the correlation matrix\n",
    "correlation_curriculum_personalization"
   ],
   "id": "bfcd45207527bd3d",
   "outputs": [
    {
     "data": {
      "text/plain": [
       "                        curriculum_rating  personalization_rating\n",
       "curriculum_rating                1.000000                0.810909\n",
       "personalization_rating           0.810909                1.000000"
      ],
      "text/html": [
       "<div>\n",
       "<style scoped>\n",
       "    .dataframe tbody tr th:only-of-type {\n",
       "        vertical-align: middle;\n",
       "    }\n",
       "\n",
       "    .dataframe tbody tr th {\n",
       "        vertical-align: top;\n",
       "    }\n",
       "\n",
       "    .dataframe thead th {\n",
       "        text-align: right;\n",
       "    }\n",
       "</style>\n",
       "<table border=\"1\" class=\"dataframe\">\n",
       "  <thead>\n",
       "    <tr style=\"text-align: right;\">\n",
       "      <th></th>\n",
       "      <th>curriculum_rating</th>\n",
       "      <th>personalization_rating</th>\n",
       "    </tr>\n",
       "  </thead>\n",
       "  <tbody>\n",
       "    <tr>\n",
       "      <th>curriculum_rating</th>\n",
       "      <td>1.000000</td>\n",
       "      <td>0.810909</td>\n",
       "    </tr>\n",
       "    <tr>\n",
       "      <th>personalization_rating</th>\n",
       "      <td>0.810909</td>\n",
       "      <td>1.000000</td>\n",
       "    </tr>\n",
       "  </tbody>\n",
       "</table>\n",
       "</div>"
      ]
     },
     "execution_count": 167,
     "metadata": {},
     "output_type": "execute_result"
    }
   ],
   "execution_count": 167
  },
  {
   "metadata": {},
   "cell_type": "markdown",
   "source": "### Correlation Matrix for Selected Columns",
   "id": "a2324ab23bcee5c9"
  },
  {
   "metadata": {
    "ExecuteTime": {
     "end_time": "2024-09-19T06:16:25.560129Z",
     "start_time": "2024-09-19T06:16:25.558598Z"
    }
   },
   "cell_type": "code",
   "source": [
    "columns_of_interest = [\n",
    "    \"curriculum_rating\",\n",
    "    \"personalization_rating\",\n",
    "]"
   ],
   "id": "50e048087caff071",
   "outputs": [],
   "execution_count": 168
  },
  {
   "metadata": {},
   "cell_type": "markdown",
   "source": "### Pearson correlation coefficient metrix and the p-value\n",
   "id": "5af4ad7fd618dc82"
  },
  {
   "metadata": {
    "ExecuteTime": {
     "end_time": "2024-09-19T06:16:25.619234Z",
     "start_time": "2024-09-19T06:16:25.607951Z"
    }
   },
   "cell_type": "code",
   "source": [
    "import pandas as pd\n",
    "import numpy as np\n",
    "from scipy.stats import pearsonr\n",
    "\n",
    "th_data = data.dropna(subset=columns_of_interest)\n",
    "transformed_header_data = th_data\n",
    "# Create empty DataFrames for storing correlation coefficients and p-values\n",
    "correlation_matrix = pd.DataFrame(np.zeros((len(columns_of_interest), len(columns_of_interest))), \n",
    "                                  columns=columns_of_interest, \n",
    "                                  index=columns_of_interest)\n",
    "\n",
    "p_value_matrix = pd.DataFrame(np.zeros((len(columns_of_interest), len(columns_of_interest))), \n",
    "                              columns=columns_of_interest, \n",
    "                              index=columns_of_interest)\n",
    "\n",
    "# Calculate Pearson correlation and p-values\n",
    "for col1 in columns_of_interest:\n",
    "    for col2 in columns_of_interest:\n",
    "        if col1 == col2:\n",
    "            # Fill diagonal with 1 for correlation and 0 for p-values\n",
    "            correlation_matrix.loc[col1, col2] = 1.0\n",
    "            p_value_matrix.loc[col1, col2] = 0.0\n",
    "        else:\n",
    "            # Compute Pearson correlation and p-value\n",
    "            corr, p_val = pearsonr(transformed_header_data[col1], transformed_header_data[col2])\n",
    "            correlation_matrix.loc[col1, col2] = corr\n",
    "            p_value_matrix.loc[col1, col2] = p_val\n",
    "\n",
    "# Function to format both correlation and p-value\n",
    "def custom_format(corr, p):\n",
    "    if p < 0.001:\n",
    "        return f'{corr:.2f}\\n(p<{p:.3f})'  # Display up to 3 decimal places for small p-values\n",
    "    else:\n",
    "        return f'{corr:.2f}\\n(p={p:.3f})'\n",
    "\n",
    "# Create a DataFrame for formatted correlation and p-values\n",
    "formatted_matrix = pd.DataFrame('', columns=columns_of_interest, index=columns_of_interest, dtype='object')\n",
    "\n",
    "# Apply custom formatting to combine correlation and p-values\n",
    "for col1 in columns_of_interest:\n",
    "    for col2 in columns_of_interest:\n",
    "        formatted_matrix.loc[col1, col2] = custom_format(correlation_matrix.loc[col1, col2], p_value_matrix.loc[col1, col2])\n",
    "\n",
    "# Apply background gradient only on the correlation values\n",
    "\n",
    "# Apply background gradient only on the correlation values\n",
    "styled_matrix = correlation_matrix.style.background_gradient(cmap='coolwarm') \\\n",
    "    .set_caption(\"Pearson Correlation Matrix with P-values for Selected Columns\") \\\n",
    "    .set_table_styles([{'selector': 'caption', 'props': [('color', 'black'), ('font-size', '16px')]}])\n",
    "\n",
    "# Display formatted matrix (correlation coefficients and p-values) without background gradient\n",
    "styled_matrix_with_text = formatted_matrix.style.set_properties(**{'white-space': 'pre'}) \\\n",
    "    .set_caption(\"Pearson Correlation Matrix with P-values for Selected Columns\") \\\n",
    "    .set_table_styles([{'selector': 'caption', 'props': [('color', 'black'), ('font-size', '16px')]}])\n",
    "\n",
    "# Display both matrices\n",
    "styled_matrix_with_text"
   ],
   "id": "d272d6a5c69d9c88",
   "outputs": [
    {
     "data": {
      "text/plain": [
       "<pandas.io.formats.style.Styler at 0x3057a0ad0>"
      ],
      "text/html": [
       "<style type=\"text/css\">\n",
       "#T_e4931 caption {\n",
       "  color: black;\n",
       "  font-size: 16px;\n",
       "}\n",
       "#T_e4931_row0_col0, #T_e4931_row0_col1, #T_e4931_row1_col0, #T_e4931_row1_col1 {\n",
       "  white-space: pre;\n",
       "}\n",
       "</style>\n",
       "<table id=\"T_e4931\">\n",
       "  <caption>Pearson Correlation Matrix with P-values for Selected Columns</caption>\n",
       "  <thead>\n",
       "    <tr>\n",
       "      <th class=\"blank level0\" >&nbsp;</th>\n",
       "      <th id=\"T_e4931_level0_col0\" class=\"col_heading level0 col0\" >curriculum_rating</th>\n",
       "      <th id=\"T_e4931_level0_col1\" class=\"col_heading level0 col1\" >personalization_rating</th>\n",
       "    </tr>\n",
       "  </thead>\n",
       "  <tbody>\n",
       "    <tr>\n",
       "      <th id=\"T_e4931_level0_row0\" class=\"row_heading level0 row0\" >curriculum_rating</th>\n",
       "      <td id=\"T_e4931_row0_col0\" class=\"data row0 col0\" >1.00\n",
       "(p<0.000)</td>\n",
       "      <td id=\"T_e4931_row0_col1\" class=\"data row0 col1\" >0.84\n",
       "(p<0.000)</td>\n",
       "    </tr>\n",
       "    <tr>\n",
       "      <th id=\"T_e4931_level0_row1\" class=\"row_heading level0 row1\" >personalization_rating</th>\n",
       "      <td id=\"T_e4931_row1_col0\" class=\"data row1 col0\" >0.84\n",
       "(p<0.000)</td>\n",
       "      <td id=\"T_e4931_row1_col1\" class=\"data row1 col1\" >1.00\n",
       "(p<0.000)</td>\n",
       "    </tr>\n",
       "  </tbody>\n",
       "</table>\n"
      ]
     },
     "execution_count": 169,
     "metadata": {},
     "output_type": "execute_result"
    }
   ],
   "execution_count": 169
  },
  {
   "metadata": {},
   "cell_type": "markdown",
   "source": "### 2. Spearman Correlation Matrix for Selected Columns\n",
   "id": "bae54c146f0514ff"
  },
  {
   "metadata": {
    "ExecuteTime": {
     "end_time": "2024-09-19T06:16:25.726838Z",
     "start_time": "2024-09-19T06:16:25.716684Z"
    }
   },
   "cell_type": "code",
   "source": [
    "import numpy as np\n",
    "from scipy.stats import spearmanr\n",
    "\n",
    "def custom_format(corr, p):\n",
    "    # Check if the p-value is very small, display more precision\n",
    "    if p < 0.001:\n",
    "        return f'{corr:.2f}\\n(p={p:.6f})'  # Display up to 6 decimal places for small p-values\n",
    "    else:\n",
    "        return f'{corr:.2f}\\n(p={p:.3f})'\n",
    "\n",
    "# Assuming 'data' is your DataFrame and 'columns_of_interest' contains the columns you want to analyze\n",
    "data = transformed_header_data\n",
    "data_subset = data[columns_of_interest]\n",
    "\n",
    "# Create empty DataFrames for storing correlation coefficients and p-values\n",
    "spearman_corr = pd.DataFrame(np.zeros((len(columns_of_interest), len(columns_of_interest))), \n",
    "                             columns=columns_of_interest, \n",
    "                             index=columns_of_interest)\n",
    "\n",
    "p_values = pd.DataFrame(np.zeros((len(columns_of_interest), len(columns_of_interest))), \n",
    "                        columns=columns_of_interest, \n",
    "                        index=columns_of_interest)\n",
    "\n",
    "clean_data = data.dropna(subset=columns_of_interest)\n",
    "\n",
    "# Calculate Spearman correlation and p-values\n",
    "for col1 in columns_of_interest:\n",
    "    for col2 in columns_of_interest:\n",
    "        if col1 == col2:\n",
    "            spearman_corr.loc[col1, col2] = 1.0\n",
    "            p_values.loc[col1, col2] = 0.0\n",
    "        else:\n",
    "            corr, p_val = spearmanr(clean_data[col1], clean_data[col2])\n",
    "            spearman_corr.loc[col1, col2] = corr\n",
    "            p_values.loc[col1, col2] = p_val\n",
    "\n",
    "# Create a new DataFrame with dtype 'object' for storing formatted strings\n",
    "combined = pd.DataFrame('', columns=columns_of_interest, index=columns_of_interest, dtype='object')\n",
    "\n",
    "# Custom format for displaying both correlation and p-values\n",
    "# def custom_format(corr, p):\n",
    "#     return f'{corr:.2f}\\n(p={p:.3f})'\n",
    "\n",
    "# Apply custom formatting to combine correlation and p-values\n",
    "for col1 in columns_of_interest:\n",
    "    for col2 in columns_of_interest:\n",
    "        combined.loc[col1, col2] = custom_format(spearman_corr.loc[col1, col2], p_values.loc[col1, col2])\n",
    "\n",
    "# Styling the combined matrix\n",
    "combined = combined.style.set_properties(**{'white-space': 'pre'}) \\\n",
    "    .set_caption(\"Spearman Correlation Matrix with P-values for Selected Columns\") \\\n",
    "    .set_table_styles([{'selector': 'caption', 'props': [('color', 'black'), ('font-size', '16px')]}])\n",
    "\n",
    "combined"
   ],
   "id": "d4668d9cc5f9e467",
   "outputs": [
    {
     "data": {
      "text/plain": [
       "<pandas.io.formats.style.Styler at 0x30559a4d0>"
      ],
      "text/html": [
       "<style type=\"text/css\">\n",
       "#T_4566b caption {\n",
       "  color: black;\n",
       "  font-size: 16px;\n",
       "}\n",
       "#T_4566b_row0_col0, #T_4566b_row0_col1, #T_4566b_row1_col0, #T_4566b_row1_col1 {\n",
       "  white-space: pre;\n",
       "}\n",
       "</style>\n",
       "<table id=\"T_4566b\">\n",
       "  <caption>Spearman Correlation Matrix with P-values for Selected Columns</caption>\n",
       "  <thead>\n",
       "    <tr>\n",
       "      <th class=\"blank level0\" >&nbsp;</th>\n",
       "      <th id=\"T_4566b_level0_col0\" class=\"col_heading level0 col0\" >curriculum_rating</th>\n",
       "      <th id=\"T_4566b_level0_col1\" class=\"col_heading level0 col1\" >personalization_rating</th>\n",
       "    </tr>\n",
       "  </thead>\n",
       "  <tbody>\n",
       "    <tr>\n",
       "      <th id=\"T_4566b_level0_row0\" class=\"row_heading level0 row0\" >curriculum_rating</th>\n",
       "      <td id=\"T_4566b_row0_col0\" class=\"data row0 col0\" >1.00\n",
       "(p=0.000000)</td>\n",
       "      <td id=\"T_4566b_row0_col1\" class=\"data row0 col1\" >0.81\n",
       "(p=0.000000)</td>\n",
       "    </tr>\n",
       "    <tr>\n",
       "      <th id=\"T_4566b_level0_row1\" class=\"row_heading level0 row1\" >personalization_rating</th>\n",
       "      <td id=\"T_4566b_row1_col0\" class=\"data row1 col0\" >0.81\n",
       "(p=0.000000)</td>\n",
       "      <td id=\"T_4566b_row1_col1\" class=\"data row1 col1\" >1.00\n",
       "(p=0.000000)</td>\n",
       "    </tr>\n",
       "  </tbody>\n",
       "</table>\n"
      ]
     },
     "execution_count": 170,
     "metadata": {},
     "output_type": "execute_result"
    }
   ],
   "execution_count": 170
  },
  {
   "metadata": {},
   "cell_type": "markdown",
   "source": "",
   "id": "b28a338a934d03a8"
  },
  {
   "metadata": {},
   "cell_type": "markdown",
   "source": "### Chi-Square Matrix for selected columns\n",
   "id": "67ad414d9455c20c"
  },
  {
   "metadata": {
    "ExecuteTime": {
     "end_time": "2024-09-19T06:16:25.776981Z",
     "start_time": "2024-09-19T06:16:25.763324Z"
    }
   },
   "cell_type": "code",
   "source": [
    "# Chi-Square Test for all pairs of selected columns\n",
    "from itertools import combinations\n",
    "from scipy.stats import chi2_contingency\n",
    "# Create a list of all possible pairs of selected columns\n",
    "column_pairs = list(combinations(columns_of_interest, 2))\n",
    "# Perform Chi-Square Test for each pair of columns\n",
    "for pair in column_pairs:\n",
    "    contingency_table = pd.crosstab(data[pair[0]], data[pair[1]])\n",
    "    chi2, p, dof, expected = chi2_contingency(contingency_table)\n",
    "    print(f\"Chi-Square Test for {pair[0]} and {pair[1]}:\")\n",
    "    print(\"Chi-Square Test Statistic:\", chi2)\n",
    "    print(\"p-value:\", p)\n",
    "    if p < 0.05:\n",
    "        print(\"significant association\", pair[0], \"and\", pair[1])\n",
    "    else:\n",
    "        print(\"no significant association\", pair[0], \"and\", pair[1])\n",
    "    print()\n",
    "\n",
    "# Display the results in a matrix form\n",
    "# Create an empty DataFrame to store the p-values\n",
    "p_values_matrix = pd.DataFrame(1, columns=columns_of_interest, index=columns_of_interest,  dtype='float64')\n",
    "# Fill the DataFrame with p-values\n",
    "for pair in column_pairs:\n",
    "    contingency_table = pd.crosstab(data[pair[0]], data[pair[1]])\n",
    "    chi2, p, dof, expected = chi2_contingency(contingency_table)\n",
    "    p_values_matrix.loc[pair[0], pair[1]] = p\n",
    "    p_values_matrix.loc[pair[1], pair[0]] = p\n",
    "    \n",
    "# Display the p-values matrix\n",
    "p_values_matrix.style.background_gradient(cmap='coolwarm').set_caption(\n",
    "    \"Chi-Square P-Values Matrix for Selected Columns\"\n",
    ").set_table_styles(\n",
    "    [{'selector': 'caption', 'props': [('color', 'black'), ('font-size', '16px')]},]\n",
    ")\n",
    "    "
   ],
   "id": "29ed2593c6b64f8d",
   "outputs": [
    {
     "name": "stdout",
     "output_type": "stream",
     "text": [
      "Chi-Square Test for curriculum_rating and personalization_rating:\n",
      "Chi-Square Test Statistic: 277.42866223820874\n",
      "p-value: 1.1799566693886522e-49\n",
      "significant association curriculum_rating and personalization_rating\n",
      "\n"
     ]
    },
    {
     "data": {
      "text/plain": [
       "<pandas.io.formats.style.Styler at 0x3152e4350>"
      ],
      "text/html": [
       "<style type=\"text/css\">\n",
       "#T_0cea4 caption {\n",
       "  color: black;\n",
       "  font-size: 16px;\n",
       "}\n",
       "#T_0cea4_row0_col0, #T_0cea4_row1_col1 {\n",
       "  background-color: #b40426;\n",
       "  color: #f1f1f1;\n",
       "}\n",
       "#T_0cea4_row0_col1, #T_0cea4_row1_col0 {\n",
       "  background-color: #3b4cc0;\n",
       "  color: #f1f1f1;\n",
       "}\n",
       "</style>\n",
       "<table id=\"T_0cea4\">\n",
       "  <caption>Chi-Square P-Values Matrix for Selected Columns</caption>\n",
       "  <thead>\n",
       "    <tr>\n",
       "      <th class=\"blank level0\" >&nbsp;</th>\n",
       "      <th id=\"T_0cea4_level0_col0\" class=\"col_heading level0 col0\" >curriculum_rating</th>\n",
       "      <th id=\"T_0cea4_level0_col1\" class=\"col_heading level0 col1\" >personalization_rating</th>\n",
       "    </tr>\n",
       "  </thead>\n",
       "  <tbody>\n",
       "    <tr>\n",
       "      <th id=\"T_0cea4_level0_row0\" class=\"row_heading level0 row0\" >curriculum_rating</th>\n",
       "      <td id=\"T_0cea4_row0_col0\" class=\"data row0 col0\" >1.000000</td>\n",
       "      <td id=\"T_0cea4_row0_col1\" class=\"data row0 col1\" >0.000000</td>\n",
       "    </tr>\n",
       "    <tr>\n",
       "      <th id=\"T_0cea4_level0_row1\" class=\"row_heading level0 row1\" >personalization_rating</th>\n",
       "      <td id=\"T_0cea4_row1_col0\" class=\"data row1 col0\" >0.000000</td>\n",
       "      <td id=\"T_0cea4_row1_col1\" class=\"data row1 col1\" >1.000000</td>\n",
       "    </tr>\n",
       "  </tbody>\n",
       "</table>\n"
      ]
     },
     "execution_count": 171,
     "metadata": {},
     "output_type": "execute_result"
    }
   ],
   "execution_count": 171
  },
  {
   "metadata": {
    "ExecuteTime": {
     "end_time": "2024-09-19T06:16:25.838052Z",
     "start_time": "2024-09-19T06:16:25.828235Z"
    }
   },
   "cell_type": "code",
   "source": [
    "from sklearn.linear_model import LinearRegression\n",
    "import statsmodels.api as sm\n",
    "\n",
    "# Define the predictor (X) and target variable (y)\n",
    "X = data['personalization_rating']\n",
    "y = data['curriculum_rating']\n",
    "\n",
    "# Add a constant to the model for statsmodels\n",
    "X_with_constant = sm.add_constant(X)\n",
    "\n",
    "# Fit the linear regression model\n",
    "model = sm.OLS(y, X_with_constant).fit()\n",
    "\n",
    "# Get the regression summary\n",
    "regression_summary = model.summary()\n",
    "\n",
    "# Extract key elements from the regression model's summary\n",
    "regression_results = {\n",
    "    'Coefficient': model.params,\n",
    "    'Standard Error': model.bse,\n",
    "    't-value': model.tvalues,\n",
    "    'P>|t|': model.pvalues,\n",
    "    '95% Conf. Interval (Lower)': model.conf_int()[0],\n",
    "    '95% Conf. Interval (Upper)': model.conf_int()[1]\n",
    "}\n",
    "\n",
    "# Convert the results to a pandas DataFrame for better presentation\n",
    "regression_df = pd.DataFrame(regression_results)\n",
    "regression_table = pd.DataFrame(regression_results, index=['const', 'personalization_rating'])\n",
    "\n",
    "# Display the table to the user\n",
    "regression_table\n"
   ],
   "id": "c486131101b2b276",
   "outputs": [
    {
     "data": {
      "text/plain": [
       "                        Coefficient  Standard Error    t-value         P>|t|  \\\n",
       "const                      0.171164        0.205413   0.833269  4.061123e-01   \n",
       "personalization_rating     0.928663        0.049892  18.613368  1.087404e-39   \n",
       "\n",
       "                        95% Conf. Interval (Lower)  95% Conf. Interval (Upper)  \n",
       "const                                    -0.234948                    0.577276  \n",
       "personalization_rating                    0.830024                    1.027303  "
      ],
      "text/html": [
       "<div>\n",
       "<style scoped>\n",
       "    .dataframe tbody tr th:only-of-type {\n",
       "        vertical-align: middle;\n",
       "    }\n",
       "\n",
       "    .dataframe tbody tr th {\n",
       "        vertical-align: top;\n",
       "    }\n",
       "\n",
       "    .dataframe thead th {\n",
       "        text-align: right;\n",
       "    }\n",
       "</style>\n",
       "<table border=\"1\" class=\"dataframe\">\n",
       "  <thead>\n",
       "    <tr style=\"text-align: right;\">\n",
       "      <th></th>\n",
       "      <th>Coefficient</th>\n",
       "      <th>Standard Error</th>\n",
       "      <th>t-value</th>\n",
       "      <th>P&gt;|t|</th>\n",
       "      <th>95% Conf. Interval (Lower)</th>\n",
       "      <th>95% Conf. Interval (Upper)</th>\n",
       "    </tr>\n",
       "  </thead>\n",
       "  <tbody>\n",
       "    <tr>\n",
       "      <th>const</th>\n",
       "      <td>0.171164</td>\n",
       "      <td>0.205413</td>\n",
       "      <td>0.833269</td>\n",
       "      <td>4.061123e-01</td>\n",
       "      <td>-0.234948</td>\n",
       "      <td>0.577276</td>\n",
       "    </tr>\n",
       "    <tr>\n",
       "      <th>personalization_rating</th>\n",
       "      <td>0.928663</td>\n",
       "      <td>0.049892</td>\n",
       "      <td>18.613368</td>\n",
       "      <td>1.087404e-39</td>\n",
       "      <td>0.830024</td>\n",
       "      <td>1.027303</td>\n",
       "    </tr>\n",
       "  </tbody>\n",
       "</table>\n",
       "</div>"
      ]
     },
     "execution_count": 172,
     "metadata": {},
     "output_type": "execute_result"
    }
   ],
   "execution_count": 172
  },
  {
   "metadata": {},
   "cell_type": "markdown",
   "source": "",
   "id": "404d49290859380b"
  },
  {
   "metadata": {},
   "cell_type": "markdown",
   "source": "### Theme Extraction and Sentiment Analysis\n",
   "id": "ea6e20a22b26a450"
  },
  {
   "metadata": {
    "ExecuteTime": {
     "end_time": "2024-09-19T06:16:25.888086Z",
     "start_time": "2024-09-19T06:16:25.885838Z"
    }
   },
   "cell_type": "code",
   "source": "data_clean.columns",
   "id": "e40317d61280aaf9",
   "outputs": [
    {
     "data": {
      "text/plain": [
       "Index(['subject', 'topic', 'grade', 'curriculum_rating', 'curriculum_comment',\n",
       "       'personalization_rating', 'personalization_comment', 'clean_grade',\n",
       "       'dominant_curriculum_comment_theme',\n",
       "       'dominant_personalization_comment_theme'],\n",
       "      dtype='object')"
      ]
     },
     "execution_count": 173,
     "metadata": {},
     "output_type": "execute_result"
    }
   ],
   "execution_count": 173
  },
  {
   "metadata": {
    "ExecuteTime": {
     "end_time": "2024-09-19T06:16:26.524225Z",
     "start_time": "2024-09-19T06:16:25.947900Z"
    }
   },
   "cell_type": "code",
   "source": [
    "import spacy\n",
    "from sklearn.feature_extraction.text import CountVectorizer\n",
    "from sklearn.decomposition import LatentDirichletAllocation\n",
    "import numpy as np\n",
    "\n",
    "# Load spaCy's small English model\n",
    "nlp = spacy.load('en_core_web_sm')\n",
    "\n",
    "# Stopwords from spaCy\n",
    "stop_words = nlp.Defaults.stop_words\n",
    "\n",
    "# Preprocessing function using spaCy\n",
    "def preprocess_text_spacy(text):\n",
    "    doc = nlp(text.lower())  # Process the text with spaCy\n",
    "    tokens = [token.text for token in doc if token.is_alpha and token.text not in stop_words]\n",
    "    return ' '.join(tokens)\n",
    "\n",
    "# Preprocess each column separately\n",
    "data['curriculum_comment'] = data['curriculum_comment'].fillna('').apply(preprocess_text_spacy)\n",
    "\n",
    "# Function for vectorization\n",
    "def vectorize_text(data, column):\n",
    "    vectorizer = CountVectorizer(max_df=0.95, min_df=2)\n",
    "    return vectorizer, vectorizer.fit_transform(data[column])\n",
    "\n",
    "# Vectorizing each feedback column\n",
    "vectorizer_curriculum_comment, curriculum_comment_matrix = vectorize_text(transformed_header_data, 'curriculum_comment')\n",
    "\n",
    "\n",
    "# Apply LDA for topic modeling\n",
    "def apply_lda(matrix, n_components=5):\n",
    "    lda = LatentDirichletAllocation(n_components=n_components, random_state=0)\n",
    "    lda.fit(matrix)\n",
    "    return lda\n",
    "\n",
    "lda_curriculum_comment = apply_lda(curriculum_comment_matrix)\n",
    "\n",
    "# Function to get dominant topic per document\n",
    "def get_dominant_topic(lda_model, matrix):\n",
    "    topic_distributions = lda_model.transform(matrix)\n",
    "    return np.argmax(topic_distributions, axis=1)\n",
    "\n",
    "# Print top terms for each topic\n",
    "def print_top_terms(lda_model, vectorizer, n_top_words=10):\n",
    "    terms = vectorizer.get_feature_names_out()\n",
    "    for index, topic in enumerate(lda_model.components_):\n",
    "        print(f'Theme {index}:', [terms[i] for i in topic.argsort()[-n_top_words:]])\n",
    "\n",
    "# Print themes for AI Expectations\n",
    "print(\"curriculum_comment Themes:\")\n",
    "print_top_terms(lda_curriculum_comment, vectorizer_curriculum_comment)\n",
    "\n",
    "# Get dominant topics for each feedback column\n",
    "curriculum_comment_dominant_topic = get_dominant_topic(lda_curriculum_comment, curriculum_comment_matrix)\n",
    "transformed_header_data['dominant_curriculum_comment_theme'] = curriculum_comment_dominant_topic\n",
    "\n",
    "# Display dominant topic counts\n",
    "curriculum_comment_theme_counts = transformed_header_data['dominant_curriculum_comment_theme'].value_counts()\n",
    "# Display the themes along with their counts\n",
    "print(\"Dominating curriculum_comment Themes:\")\n",
    "\n",
    "# Create a mapping from theme index to terms\n",
    "terms_curriculum_comment = vectorizer_curriculum_comment.get_feature_names_out()\n",
    "for theme_idx, count in curriculum_comment_theme_counts.items():\n",
    "    top_terms = [terms_curriculum_comment[i] for i in lda_curriculum_comment.components_[theme_idx].argsort()[-10:]]\n",
    "    print(f\"Theme {theme_idx}: {' '.join(top_terms)} (Count: {count})\")\n"
   ],
   "id": "fc0902a60e9187cb",
   "outputs": [
    {
     "name": "stdout",
     "output_type": "stream",
     "text": [
      "curriculum_comment Themes:\n",
      "Theme 0: ['students', 'perfectly', 'topic', 'student', 'subject', 'evaluation', 'aligned', 'objectives', 'lesson', 'plan']\n",
      "Theme 1: ['best', 'subtopics', 'need', 'teacher', 'planned', 'covered', 'students', 'perfectly', 'lesson', 'plan']\n",
      "Theme 2: ['order', 'know', 'teach', 'aligns', 'topic', 'objectives', 'content', 'good', 'plan', 'lesson']\n",
      "Theme 3: ['learning', 'gave', 'ss', 'included', 'line', 'teaching', 'great', 'curriculum', 'scheme', 'work']\n",
      "Theme 4: ['like', 'explanation', 'expectations', 'main', 'topic', 'inline', 'clearly', 'detailed', 'presented', 'amazing']\n",
      "Dominating curriculum_comment Themes:\n",
      "Theme 0: students perfectly topic student subject evaluation aligned objectives lesson plan (Count: 76)\n",
      "Theme 2: order know teach aligns topic objectives content good plan lesson (Count: 22)\n",
      "Theme 1: best subtopics need teacher planned covered students perfectly lesson plan (Count: 18)\n",
      "Theme 4: like explanation expectations main topic inline clearly detailed presented amazing (Count: 13)\n",
      "Theme 3: learning gave ss included line teaching great curriculum scheme work (Count: 13)\n"
     ]
    }
   ],
   "execution_count": 174
  },
  {
   "metadata": {
    "ExecuteTime": {
     "end_time": "2024-09-19T06:16:26.617985Z",
     "start_time": "2024-09-19T06:16:26.616481Z"
    }
   },
   "cell_type": "code",
   "source": "",
   "id": "e3a0469032e60236",
   "outputs": [],
   "execution_count": null
  },
  {
   "metadata": {
    "ExecuteTime": {
     "end_time": "2024-09-19T06:16:26.681463Z",
     "start_time": "2024-09-19T06:16:26.680337Z"
    }
   },
   "cell_type": "code",
   "source": "",
   "id": "3cf3ac5f01343962",
   "outputs": [],
   "execution_count": null
  },
  {
   "metadata": {
    "ExecuteTime": {
     "end_time": "2024-09-19T06:16:26.691377Z",
     "start_time": "2024-09-19T06:16:26.688514Z"
    }
   },
   "cell_type": "code",
   "source": [
    "import scipy.stats as stats\n",
    "\n",
    "# Example: Checking correlation between theme and tool usage frequency\n",
    "correlation, p_value = stats.spearmanr(transformed_header_data['dominant_curriculum_comment_theme'], transformed_header_data['curriculum_rating'])\n",
    "\n",
    "print(f\"Spearman Correlation: {correlation}, P-value: {p_value}\")"
   ],
   "id": "287488fcb3431069",
   "outputs": [
    {
     "name": "stdout",
     "output_type": "stream",
     "text": [
      "Spearman Correlation: 0.21136589982658566, P-value: 0.011568225048564468\n"
     ]
    }
   ],
   "execution_count": 175
  },
  {
   "metadata": {
    "ExecuteTime": {
     "end_time": "2024-09-19T06:16:26.943749Z",
     "start_time": "2024-09-19T06:16:26.782098Z"
    }
   },
   "cell_type": "code",
   "source": [
    "import matplotlib.pyplot as plt\n",
    "import seaborn as sns\n",
    "\n",
    "# Bar plot for theme counts\n",
    "theme_counts = transformed_header_data['dominant_curriculum_comment_theme'].value_counts()\n",
    "theme_counts.plot(kind='bar', title='Theme Counts for Curriculum  Alignment Feedbck')\n",
    "plt.show()\n",
    "\n",
    "# Heatmap for correlations\n",
    "correlation_matrix = transformed_header_data[['dominant_curriculum_comment_theme', 'curriculum_rating']].corr()\n",
    "sns.heatmap(correlation_matrix, annot=True)\n",
    "plt.show()"
   ],
   "id": "9230f29296a965d9",
   "outputs": [
    {
     "data": {
      "text/plain": [
       "<Figure size 640x480 with 1 Axes>"
      ],
      "image/png": "[encoded data removed]"
     },
     "metadata": {},
     "output_type": "display_data"
    },
    {
     "data": {
      "text/plain": [
       "<Figure size 640x480 with 2 Axes>"
      ],
      "image/png": "[encoded data removed]"
     },
     "metadata": {},
     "output_type": "display_data"
    }
   ],
   "execution_count": 176
  },
  {
   "metadata": {
    "ExecuteTime": {
     "end_time": "2024-09-19T06:16:27.097612Z",
     "start_time": "2024-09-19T06:16:26.976349Z"
    }
   },
   "cell_type": "code",
   "source": [
    "import matplotlib.pyplot as plt\n",
    "import seaborn as sns\n",
    "\n",
    "# Bar plot for theme counts\n",
    "theme_counts = transformed_header_data['dominant_curriculum_comment_theme'].value_counts()\n",
    "theme_counts.plot(kind='bar', title='Theme Counts for Curriculum  Alignment Feedbck')\n",
    "plt.show()\n",
    "\n",
    "# Heatmap for correlations\n",
    "correlation_matrix = transformed_header_data[['dominant_curriculum_comment_theme', 'curriculum_rating']].corr()\n",
    "sns.heatmap(correlation_matrix, annot=True)\n",
    "plt.show()"
   ],
   "id": "91566c8ccde15e05",
   "outputs": [
    {
     "data": {
      "text/plain": [
       "<Figure size 640x480 with 1 Axes>"
      ],
      "image/png": "[encoded data removed]"
     },
     "metadata": {},
     "output_type": "display_data"
    },
    {
     "data": {
      "text/plain": [
       "<Figure size 640x480 with 2 Axes>"
      ],
      "image/png": "[encoded data removed]"
     },
     "metadata": {},
     "output_type": "display_data"
    }
   ],
   "execution_count": 177
  },
  {
   "metadata": {},
   "cell_type": "markdown",
   "source": "### Sentiment Analysis",
   "id": "e6ca99f3c7dde5e7"
  },
  {
   "metadata": {
    "ExecuteTime": {
     "end_time": "2024-09-19T06:16:27.146395Z",
     "start_time": "2024-09-19T06:16:27.133129Z"
    }
   },
   "cell_type": "code",
   "source": [
    "from textblob import TextBlob\n",
    "# Perform sentiment analysis on the qualitative feedback\n",
    "data['combined_feedback'] = data['curriculum_comment'].fillna('') + ' ' + data['personalization_comment'].fillna('')\n",
    "# Calculate sentiment polarity (ranges from -1 to 1, where -1 is very negative and 1 is very positive)\n",
    "data['sentiment'] = data['combined_feedback'].apply(lambda x: TextBlob(x).sentiment.polarity)\n",
    "# Display the sentiment scores for each feedback\n",
    "sentiment_scores = data[['combined_feedback', 'sentiment']]\n",
    "# Display the results\n",
    "sentiment_scores"
   ],
   "id": "1c762b6bc81fc4ca",
   "outputs": [
    {
     "data": {
      "text/plain": [
       "                                     combined_feedback  sentiment\n",
       "0                                  fit perfectly great   0.600000\n",
       "1                  plan bis detailed easier understand   0.400000\n",
       "2    gives insight topic teacher helps teach know a...   0.000000\n",
       "3                                                        0.000000\n",
       "4                                            nonw nibe   0.000000\n",
       "..                                                 ...        ...\n",
       "137  environmental physiology agricultural science ...   0.000000\n",
       "138  works actual guide introducing lesson followin...   0.077778\n",
       "139                                                      0.000000\n",
       "140  fairly generic match exam board requirements g...   0.000000\n",
       "141                                                      0.000000\n",
       "\n",
       "[142 rows x 2 columns]"
      ],
      "text/html": [
       "<div>\n",
       "<style scoped>\n",
       "    .dataframe tbody tr th:only-of-type {\n",
       "        vertical-align: middle;\n",
       "    }\n",
       "\n",
       "    .dataframe tbody tr th {\n",
       "        vertical-align: top;\n",
       "    }\n",
       "\n",
       "    .dataframe thead th {\n",
       "        text-align: right;\n",
       "    }\n",
       "</style>\n",
       "<table border=\"1\" class=\"dataframe\">\n",
       "  <thead>\n",
       "    <tr style=\"text-align: right;\">\n",
       "      <th></th>\n",
       "      <th>combined_feedback</th>\n",
       "      <th>sentiment</th>\n",
       "    </tr>\n",
       "  </thead>\n",
       "  <tbody>\n",
       "    <tr>\n",
       "      <th>0</th>\n",
       "      <td>fit perfectly great</td>\n",
       "      <td>0.600000</td>\n",
       "    </tr>\n",
       "    <tr>\n",
       "      <th>1</th>\n",
       "      <td>plan bis detailed easier understand</td>\n",
       "      <td>0.400000</td>\n",
       "    </tr>\n",
       "    <tr>\n",
       "      <th>2</th>\n",
       "      <td>gives insight topic teacher helps teach know a...</td>\n",
       "      <td>0.000000</td>\n",
       "    </tr>\n",
       "    <tr>\n",
       "      <th>3</th>\n",
       "      <td></td>\n",
       "      <td>0.000000</td>\n",
       "    </tr>\n",
       "    <tr>\n",
       "      <th>4</th>\n",
       "      <td>nonw nibe</td>\n",
       "      <td>0.000000</td>\n",
       "    </tr>\n",
       "    <tr>\n",
       "      <th>...</th>\n",
       "      <td>...</td>\n",
       "      <td>...</td>\n",
       "    </tr>\n",
       "    <tr>\n",
       "      <th>137</th>\n",
       "      <td>environmental physiology agricultural science ...</td>\n",
       "      <td>0.000000</td>\n",
       "    </tr>\n",
       "    <tr>\n",
       "      <th>138</th>\n",
       "      <td>works actual guide introducing lesson followin...</td>\n",
       "      <td>0.077778</td>\n",
       "    </tr>\n",
       "    <tr>\n",
       "      <th>139</th>\n",
       "      <td></td>\n",
       "      <td>0.000000</td>\n",
       "    </tr>\n",
       "    <tr>\n",
       "      <th>140</th>\n",
       "      <td>fairly generic match exam board requirements g...</td>\n",
       "      <td>0.000000</td>\n",
       "    </tr>\n",
       "    <tr>\n",
       "      <th>141</th>\n",
       "      <td></td>\n",
       "      <td>0.000000</td>\n",
       "    </tr>\n",
       "  </tbody>\n",
       "</table>\n",
       "<p>142 rows × 2 columns</p>\n",
       "</div>"
      ]
     },
     "execution_count": 178,
     "metadata": {},
     "output_type": "execute_result"
    }
   ],
   "execution_count": 178
  },
  {
   "metadata": {
    "ExecuteTime": {
     "end_time": "2024-09-19T06:16:27.208789Z",
     "start_time": "2024-09-19T06:16:27.199171Z"
    }
   },
   "cell_type": "code",
   "source": [
    "# Performing ANOVA to check for statistically significant differences in curriculum ratings across subjects\n",
    "import statsmodels.api as sm\n",
    "from statsmodels.formula.api import ols\n",
    "\n",
    "# Fit the ANOVA model\n",
    "anova_model = ols('curriculum_rating ~ subject', data=data_clean).fit()\n",
    "anova_table = sm.stats.anova_lm(anova_model, typ=2)\n",
    "\n",
    "# Display the ANOVA table\n",
    "anova_table"
   ],
   "id": "28d8b9220ef528fb",
   "outputs": [
    {
     "data": {
      "text/plain": [
       "              sum_sq     df         F    PR(>F)\n",
       "subject    68.689614   37.0  1.559961  0.041574\n",
       "Residual  123.768133  104.0       NaN       NaN"
      ],
      "text/html": [
       "<div>\n",
       "<style scoped>\n",
       "    .dataframe tbody tr th:only-of-type {\n",
       "        vertical-align: middle;\n",
       "    }\n",
       "\n",
       "    .dataframe tbody tr th {\n",
       "        vertical-align: top;\n",
       "    }\n",
       "\n",
       "    .dataframe thead th {\n",
       "        text-align: right;\n",
       "    }\n",
       "</style>\n",
       "<table border=\"1\" class=\"dataframe\">\n",
       "  <thead>\n",
       "    <tr style=\"text-align: right;\">\n",
       "      <th></th>\n",
       "      <th>sum_sq</th>\n",
       "      <th>df</th>\n",
       "      <th>F</th>\n",
       "      <th>PR(&gt;F)</th>\n",
       "    </tr>\n",
       "  </thead>\n",
       "  <tbody>\n",
       "    <tr>\n",
       "      <th>subject</th>\n",
       "      <td>68.689614</td>\n",
       "      <td>37.0</td>\n",
       "      <td>1.559961</td>\n",
       "      <td>0.041574</td>\n",
       "    </tr>\n",
       "    <tr>\n",
       "      <th>Residual</th>\n",
       "      <td>123.768133</td>\n",
       "      <td>104.0</td>\n",
       "      <td>NaN</td>\n",
       "      <td>NaN</td>\n",
       "    </tr>\n",
       "  </tbody>\n",
       "</table>\n",
       "</div>"
      ]
     },
     "execution_count": 179,
     "metadata": {},
     "output_type": "execute_result"
    }
   ],
   "execution_count": 179
  },
  {
   "metadata": {
    "ExecuteTime": {
     "end_time": "2024-09-19T06:16:27.319396Z",
     "start_time": "2024-09-19T06:16:27.307553Z"
    }
   },
   "cell_type": "code",
   "source": [
    "# Performing ANOVA to check for statistically significant differences in personalisation ratings across subjects\n",
    "import statsmodels.api as sm\n",
    "from statsmodels.formula.api import ols\n",
    "\n",
    "# Fit the ANOVA model\n",
    "anova_model = ols('personalization_rating ~ subject', data=data_clean).fit()\n",
    "anova_table = sm.stats.anova_lm(anova_model, typ=2)\n",
    "\n",
    "# Display the ANOVA table\n",
    "anova_table"
   ],
   "id": "92e380c3852f0c48",
   "outputs": [
    {
     "data": {
      "text/plain": [
       "             sum_sq     df         F    PR(>F)\n",
       "subject   58.973984   37.0  1.658267  0.024275\n",
       "Residual  99.962636  104.0       NaN       NaN"
      ],
      "text/html": [
       "<div>\n",
       "<style scoped>\n",
       "    .dataframe tbody tr th:only-of-type {\n",
       "        vertical-align: middle;\n",
       "    }\n",
       "\n",
       "    .dataframe tbody tr th {\n",
       "        vertical-align: top;\n",
       "    }\n",
       "\n",
       "    .dataframe thead th {\n",
       "        text-align: right;\n",
       "    }\n",
       "</style>\n",
       "<table border=\"1\" class=\"dataframe\">\n",
       "  <thead>\n",
       "    <tr style=\"text-align: right;\">\n",
       "      <th></th>\n",
       "      <th>sum_sq</th>\n",
       "      <th>df</th>\n",
       "      <th>F</th>\n",
       "      <th>PR(&gt;F)</th>\n",
       "    </tr>\n",
       "  </thead>\n",
       "  <tbody>\n",
       "    <tr>\n",
       "      <th>subject</th>\n",
       "      <td>58.973984</td>\n",
       "      <td>37.0</td>\n",
       "      <td>1.658267</td>\n",
       "      <td>0.024275</td>\n",
       "    </tr>\n",
       "    <tr>\n",
       "      <th>Residual</th>\n",
       "      <td>99.962636</td>\n",
       "      <td>104.0</td>\n",
       "      <td>NaN</td>\n",
       "      <td>NaN</td>\n",
       "    </tr>\n",
       "  </tbody>\n",
       "</table>\n",
       "</div>"
      ]
     },
     "execution_count": 180,
     "metadata": {},
     "output_type": "execute_result"
    }
   ],
   "execution_count": 180
  },
  {
   "metadata": {
    "ExecuteTime": {
     "end_time": "2024-09-19T06:16:27.380157Z",
     "start_time": "2024-09-19T06:16:27.378209Z"
    }
   },
   "cell_type": "code",
   "source": "",
   "id": "f72f4e3a64d3f669",
   "outputs": [],
   "execution_count": null
  },
  {
   "metadata": {
    "ExecuteTime": {
     "end_time": "2024-09-19T06:16:27.463383Z",
     "start_time": "2024-09-19T06:16:27.452316Z"
    }
   },
   "cell_type": "code",
   "source": [
    "# Performing ANOVA to check for statistically significant differences in curriculum ratings across grades\n",
    "import statsmodels.api as sm\n",
    "from statsmodels.formula.api import ols\n",
    "\n",
    "# Fit the ANOVA model\n",
    "anova_model = ols('curriculum_rating ~ clean_grade', data=data_clean).fit()\n",
    "anova_table = sm.stats.anova_lm(anova_model, typ=2)\n",
    "\n",
    "# Display the ANOVA table\n",
    "anova_table"
   ],
   "id": "b8631c97007d560",
   "outputs": [
    {
     "data": {
      "text/plain": [
       "                 sum_sq     df         F    PR(>F)\n",
       "clean_grade   26.314451   15.0  1.330426  0.193682\n",
       "Residual     166.143295  126.0       NaN       NaN"
      ],
      "text/html": [
       "<div>\n",
       "<style scoped>\n",
       "    .dataframe tbody tr th:only-of-type {\n",
       "        vertical-align: middle;\n",
       "    }\n",
       "\n",
       "    .dataframe tbody tr th {\n",
       "        vertical-align: top;\n",
       "    }\n",
       "\n",
       "    .dataframe thead th {\n",
       "        text-align: right;\n",
       "    }\n",
       "</style>\n",
       "<table border=\"1\" class=\"dataframe\">\n",
       "  <thead>\n",
       "    <tr style=\"text-align: right;\">\n",
       "      <th></th>\n",
       "      <th>sum_sq</th>\n",
       "      <th>df</th>\n",
       "      <th>F</th>\n",
       "      <th>PR(&gt;F)</th>\n",
       "    </tr>\n",
       "  </thead>\n",
       "  <tbody>\n",
       "    <tr>\n",
       "      <th>clean_grade</th>\n",
       "      <td>26.314451</td>\n",
       "      <td>15.0</td>\n",
       "      <td>1.330426</td>\n",
       "      <td>0.193682</td>\n",
       "    </tr>\n",
       "    <tr>\n",
       "      <th>Residual</th>\n",
       "      <td>166.143295</td>\n",
       "      <td>126.0</td>\n",
       "      <td>NaN</td>\n",
       "      <td>NaN</td>\n",
       "    </tr>\n",
       "  </tbody>\n",
       "</table>\n",
       "</div>"
      ]
     },
     "execution_count": 181,
     "metadata": {},
     "output_type": "execute_result"
    }
   ],
   "execution_count": 181
  },
  {
   "metadata": {
    "ExecuteTime": {
     "end_time": "2024-09-19T06:16:27.575262Z",
     "start_time": "2024-09-19T06:16:27.563426Z"
    }
   },
   "cell_type": "code",
   "source": [
    "# Performing ANOVA to check for statistically significant differences in personalization ratings across grades\n",
    "import statsmodels.api as sm\n",
    "from statsmodels.formula.api import ols\n",
    "    \n",
    "# Fit the ANOVA model\n",
    "anova_model = ols('personalization_rating ~ clean_grade', data=data_clean).fit()\n",
    "anova_table = sm.stats.anova_lm(anova_model, typ=2)\n",
    "\n",
    "# Display the ANOVA table\n",
    "anova_table"
   ],
   "id": "f3d817a7397178be",
   "outputs": [
    {
     "data": {
      "text/plain": [
       "                 sum_sq     df         F    PR(>F)\n",
       "clean_grade   25.723353   15.0  1.622032  0.076706\n",
       "Residual     133.213266  126.0       NaN       NaN"
      ],
      "text/html": [
       "<div>\n",
       "<style scoped>\n",
       "    .dataframe tbody tr th:only-of-type {\n",
       "        vertical-align: middle;\n",
       "    }\n",
       "\n",
       "    .dataframe tbody tr th {\n",
       "        vertical-align: top;\n",
       "    }\n",
       "\n",
       "    .dataframe thead th {\n",
       "        text-align: right;\n",
       "    }\n",
       "</style>\n",
       "<table border=\"1\" class=\"dataframe\">\n",
       "  <thead>\n",
       "    <tr style=\"text-align: right;\">\n",
       "      <th></th>\n",
       "      <th>sum_sq</th>\n",
       "      <th>df</th>\n",
       "      <th>F</th>\n",
       "      <th>PR(&gt;F)</th>\n",
       "    </tr>\n",
       "  </thead>\n",
       "  <tbody>\n",
       "    <tr>\n",
       "      <th>clean_grade</th>\n",
       "      <td>25.723353</td>\n",
       "      <td>15.0</td>\n",
       "      <td>1.622032</td>\n",
       "      <td>0.076706</td>\n",
       "    </tr>\n",
       "    <tr>\n",
       "      <th>Residual</th>\n",
       "      <td>133.213266</td>\n",
       "      <td>126.0</td>\n",
       "      <td>NaN</td>\n",
       "      <td>NaN</td>\n",
       "    </tr>\n",
       "  </tbody>\n",
       "</table>\n",
       "</div>"
      ]
     },
     "execution_count": 182,
     "metadata": {},
     "output_type": "execute_result"
    }
   ],
   "execution_count": 182
  },
  {
   "metadata": {
    "ExecuteTime": {
     "end_time": "2024-09-19T06:16:27.652870Z",
     "start_time": "2024-09-19T06:16:27.648355Z"
    }
   },
   "cell_type": "code",
   "source": [
    "# Let's remove rows where either 'curriculum_comment' or 'personalization_comment' is an empty string, as well as NaN values.\n",
    "data_cleaned_curriculum = data_clean[data_clean['curriculum_comment'].str.strip() != '']\n",
    "data_cleaned_personalization = data_clean[data_clean['personalization_comment'].str.strip() != '']\n",
    "\n",
    "# Display the cleaned columns\n",
    "cleaned_curriculum_column = data_cleaned_curriculum[['curriculum_comment']]\n",
    "cleaned_personalization_column = data_cleaned_personalization[['personalization_comment']]\n",
    "\n",
    "# Show the cleaned curriculum and personalization feedback data after removing empty strings\n",
    "curriculum_comment = cleaned_curriculum_column\n",
    "personalization_comment = cleaned_personalization_column"
   ],
   "id": "f284ad8715f15f66",
   "outputs": [],
   "execution_count": 183
  },
  {
   "metadata": {
    "ExecuteTime": {
     "end_time": "2024-09-19T06:16:27.688773Z",
     "start_time": "2024-09-19T06:16:27.684422Z"
    }
   },
   "cell_type": "code",
   "source": [
    "# Let's conduct a simple thematic analysis by identifying common themes in the feedback columns\n",
    "from collections import Counter\n",
    "\n",
    "# Combine all open-ended feedback from the 'curriculum_comment' and 'personalization_comment' columns\n",
    "feedback = data_clean['curriculum_comment'].fillna('') + ' ' + data_clean['personalization_comment'].fillna('')\n",
    "\n",
    "# Tokenize and clean the feedback by splitting into individual words and removing common stopwords\n",
    "stopwords = ['the', 'and', 'to', 'is', 'of', 'it', 'in', 'me', 'as', 'a', 'my', 'for', 'i']\n",
    "\n",
    "# Tokenize and remove stopwords\n",
    "tokens = [word.lower() for sentence in feedback for word in sentence.split() if word.lower() not in stopwords]\n",
    "\n",
    "# Count the frequency of each word to identify common themes\n",
    "word_freq = Counter(tokens)\n",
    "\n",
    "# Display the most common words (themes)\n",
    "common_themes = word_freq.most_common(10)\n",
    "\n",
    "# Display the results\n",
    "print(common_themes)"
   ],
   "id": "e4bbfb49828ee346",
   "outputs": [
    {
     "name": "stdout",
     "output_type": "stream",
     "text": [
      "[('lesson', 50), ('students', 39), ('plan', 37), ('learning', 16), ('objectives', 16), ('topic', 11), ('work', 11), ('good', 11), ('need', 10), ('student', 9)]\n"
     ]
    }
   ],
   "execution_count": 184
  },
  {
   "metadata": {
    "ExecuteTime": {
     "end_time": "2024-09-19T06:16:27.794771Z",
     "start_time": "2024-09-19T06:16:27.782774Z"
    }
   },
   "cell_type": "code",
   "source": [
    "from textblob import TextBlob\n",
    "\n",
    "# Perform sentiment analysis on the qualitative feedback\n",
    "data['combined_feedback'] = data['curriculum_comment'].fillna('') + ' ' + data['personalization_comment'].fillna('')\n",
    "\n",
    "# Calculate sentiment polarity (ranges from -1 to 1, where -1 is very negative and 1 is very positive)\n",
    "data['sentiment'] = data['combined_feedback'].apply(lambda x: TextBlob(x).sentiment.polarity)\n",
    "\n",
    "# Display the sentiment scores for each feedback\n",
    "sentiment_scores = data[['combined_feedback', 'sentiment']]\n",
    "\n",
    "# Display the results\n",
    "sentiment_scores"
   ],
   "id": "7e854b105e60da68",
   "outputs": [
    {
     "data": {
      "text/plain": [
       "                                     combined_feedback  sentiment\n",
       "0                                  fit perfectly great   0.600000\n",
       "1                  plan bis detailed easier understand   0.400000\n",
       "2    gives insight topic teacher helps teach know a...   0.000000\n",
       "3                                                        0.000000\n",
       "4                                            nonw nibe   0.000000\n",
       "..                                                 ...        ...\n",
       "137  environmental physiology agricultural science ...   0.000000\n",
       "138  works actual guide introducing lesson followin...   0.077778\n",
       "139                                                      0.000000\n",
       "140  fairly generic match exam board requirements g...   0.000000\n",
       "141                                                      0.000000\n",
       "\n",
       "[142 rows x 2 columns]"
      ],
      "text/html": [
       "<div>\n",
       "<style scoped>\n",
       "    .dataframe tbody tr th:only-of-type {\n",
       "        vertical-align: middle;\n",
       "    }\n",
       "\n",
       "    .dataframe tbody tr th {\n",
       "        vertical-align: top;\n",
       "    }\n",
       "\n",
       "    .dataframe thead th {\n",
       "        text-align: right;\n",
       "    }\n",
       "</style>\n",
       "<table border=\"1\" class=\"dataframe\">\n",
       "  <thead>\n",
       "    <tr style=\"text-align: right;\">\n",
       "      <th></th>\n",
       "      <th>combined_feedback</th>\n",
       "      <th>sentiment</th>\n",
       "    </tr>\n",
       "  </thead>\n",
       "  <tbody>\n",
       "    <tr>\n",
       "      <th>0</th>\n",
       "      <td>fit perfectly great</td>\n",
       "      <td>0.600000</td>\n",
       "    </tr>\n",
       "    <tr>\n",
       "      <th>1</th>\n",
       "      <td>plan bis detailed easier understand</td>\n",
       "      <td>0.400000</td>\n",
       "    </tr>\n",
       "    <tr>\n",
       "      <th>2</th>\n",
       "      <td>gives insight topic teacher helps teach know a...</td>\n",
       "      <td>0.000000</td>\n",
       "    </tr>\n",
       "    <tr>\n",
       "      <th>3</th>\n",
       "      <td></td>\n",
       "      <td>0.000000</td>\n",
       "    </tr>\n",
       "    <tr>\n",
       "      <th>4</th>\n",
       "      <td>nonw nibe</td>\n",
       "      <td>0.000000</td>\n",
       "    </tr>\n",
       "    <tr>\n",
       "      <th>...</th>\n",
       "      <td>...</td>\n",
       "      <td>...</td>\n",
       "    </tr>\n",
       "    <tr>\n",
       "      <th>137</th>\n",
       "      <td>environmental physiology agricultural science ...</td>\n",
       "      <td>0.000000</td>\n",
       "    </tr>\n",
       "    <tr>\n",
       "      <th>138</th>\n",
       "      <td>works actual guide introducing lesson followin...</td>\n",
       "      <td>0.077778</td>\n",
       "    </tr>\n",
       "    <tr>\n",
       "      <th>139</th>\n",
       "      <td></td>\n",
       "      <td>0.000000</td>\n",
       "    </tr>\n",
       "    <tr>\n",
       "      <th>140</th>\n",
       "      <td>fairly generic match exam board requirements g...</td>\n",
       "      <td>0.000000</td>\n",
       "    </tr>\n",
       "    <tr>\n",
       "      <th>141</th>\n",
       "      <td></td>\n",
       "      <td>0.000000</td>\n",
       "    </tr>\n",
       "  </tbody>\n",
       "</table>\n",
       "<p>142 rows × 2 columns</p>\n",
       "</div>"
      ]
     },
     "execution_count": 185,
     "metadata": {},
     "output_type": "execute_result"
    }
   ],
   "execution_count": 185
  },
  {
   "metadata": {
    "ExecuteTime": {
     "end_time": "2024-09-19T06:16:27.864987Z",
     "start_time": "2024-09-19T06:16:27.846019Z"
    }
   },
   "cell_type": "code",
   "source": [
    "# Let's extract more sentiment details: polarity and subjectivity using TextBlob\n",
    "# Calculate both polarity and subjectivity (subjectivity ranges from 0 to 1, with 1 being very subjective)\n",
    "data['polarity'] = data['combined_feedback'].apply(lambda x: TextBlob(x).sentiment.polarity)\n",
    "data['subjectivity'] = data['combined_feedback'].apply(lambda x: TextBlob(x).sentiment.subjectivity)\n",
    "\n",
    "# Display the sentiment details\n",
    "sentiment_details = data[['combined_feedback', 'polarity', 'subjectivity']]\n",
    "\n",
    "# Display the sentiment details\n",
    "sentiment_details"
   ],
   "id": "13df4a0612d74358",
   "outputs": [
    {
     "data": {
      "text/plain": [
       "                                     combined_feedback  polarity  subjectivity\n",
       "0                                  fit perfectly great  0.600000      0.575000\n",
       "1                  plan bis detailed easier understand  0.400000      0.750000\n",
       "2    gives insight topic teacher helps teach know a...  0.000000      0.000000\n",
       "3                                                       0.000000      0.000000\n",
       "4                                            nonw nibe  0.000000      0.000000\n",
       "..                                                 ...       ...           ...\n",
       "137  environmental physiology agricultural science ...  0.000000      0.800000\n",
       "138  works actual guide introducing lesson followin...  0.077778      0.563889\n",
       "139                                                     0.000000      0.000000\n",
       "140  fairly generic match exam board requirements g...  0.000000      0.000000\n",
       "141                                                     0.000000      0.000000\n",
       "\n",
       "[142 rows x 3 columns]"
      ],
      "text/html": [
       "<div>\n",
       "<style scoped>\n",
       "    .dataframe tbody tr th:only-of-type {\n",
       "        vertical-align: middle;\n",
       "    }\n",
       "\n",
       "    .dataframe tbody tr th {\n",
       "        vertical-align: top;\n",
       "    }\n",
       "\n",
       "    .dataframe thead th {\n",
       "        text-align: right;\n",
       "    }\n",
       "</style>\n",
       "<table border=\"1\" class=\"dataframe\">\n",
       "  <thead>\n",
       "    <tr style=\"text-align: right;\">\n",
       "      <th></th>\n",
       "      <th>combined_feedback</th>\n",
       "      <th>polarity</th>\n",
       "      <th>subjectivity</th>\n",
       "    </tr>\n",
       "  </thead>\n",
       "  <tbody>\n",
       "    <tr>\n",
       "      <th>0</th>\n",
       "      <td>fit perfectly great</td>\n",
       "      <td>0.600000</td>\n",
       "      <td>0.575000</td>\n",
       "    </tr>\n",
       "    <tr>\n",
       "      <th>1</th>\n",
       "      <td>plan bis detailed easier understand</td>\n",
       "      <td>0.400000</td>\n",
       "      <td>0.750000</td>\n",
       "    </tr>\n",
       "    <tr>\n",
       "      <th>2</th>\n",
       "      <td>gives insight topic teacher helps teach know a...</td>\n",
       "      <td>0.000000</td>\n",
       "      <td>0.000000</td>\n",
       "    </tr>\n",
       "    <tr>\n",
       "      <th>3</th>\n",
       "      <td></td>\n",
       "      <td>0.000000</td>\n",
       "      <td>0.000000</td>\n",
       "    </tr>\n",
       "    <tr>\n",
       "      <th>4</th>\n",
       "      <td>nonw nibe</td>\n",
       "      <td>0.000000</td>\n",
       "      <td>0.000000</td>\n",
       "    </tr>\n",
       "    <tr>\n",
       "      <th>...</th>\n",
       "      <td>...</td>\n",
       "      <td>...</td>\n",
       "      <td>...</td>\n",
       "    </tr>\n",
       "    <tr>\n",
       "      <th>137</th>\n",
       "      <td>environmental physiology agricultural science ...</td>\n",
       "      <td>0.000000</td>\n",
       "      <td>0.800000</td>\n",
       "    </tr>\n",
       "    <tr>\n",
       "      <th>138</th>\n",
       "      <td>works actual guide introducing lesson followin...</td>\n",
       "      <td>0.077778</td>\n",
       "      <td>0.563889</td>\n",
       "    </tr>\n",
       "    <tr>\n",
       "      <th>139</th>\n",
       "      <td></td>\n",
       "      <td>0.000000</td>\n",
       "      <td>0.000000</td>\n",
       "    </tr>\n",
       "    <tr>\n",
       "      <th>140</th>\n",
       "      <td>fairly generic match exam board requirements g...</td>\n",
       "      <td>0.000000</td>\n",
       "      <td>0.000000</td>\n",
       "    </tr>\n",
       "    <tr>\n",
       "      <th>141</th>\n",
       "      <td></td>\n",
       "      <td>0.000000</td>\n",
       "      <td>0.000000</td>\n",
       "    </tr>\n",
       "  </tbody>\n",
       "</table>\n",
       "<p>142 rows × 3 columns</p>\n",
       "</div>"
      ]
     },
     "execution_count": 186,
     "metadata": {},
     "output_type": "execute_result"
    }
   ],
   "execution_count": 186
  },
  {
   "metadata": {
    "ExecuteTime": {
     "end_time": "2024-09-19T06:16:27.924387Z",
     "start_time": "2024-09-19T06:16:27.923102Z"
    }
   },
   "cell_type": "code",
   "source": "",
   "id": "21593d2fb90687b1",
   "outputs": [],
   "execution_count": null
  },
  {
   "metadata": {
    "ExecuteTime": {
     "end_time": "2024-09-19T06:16:27.957319Z",
     "start_time": "2024-09-19T06:16:27.952963Z"
    }
   },
   "cell_type": "code",
   "source": [
    "# Analyzing themes (words) that align with high subjectivity scores\n",
    "# Let's categorize the feedback into high and low subjectivity\n",
    "\n",
    "# Define threshold for high subjectivity (e.g., > 0.5)\n",
    "high_subjectivity = data[data['subjectivity'] > 0.5]\n",
    "\n",
    "# Combine all feedback with high subjectivity for thematic analysis\n",
    "high_subjectivity_feedback = ' '.join(high_subjectivity['combined_feedback'].fillna(''))\n",
    "\n",
    "# Tokenize and clean the feedback for high subjectivity, removing stopwords\n",
    "tokens_high_subjectivity = [word.lower() for word in high_subjectivity_feedback.split() if word.lower() not in stopwords]\n",
    "\n",
    "# Count the frequency of words in the high subjectivity feedback\n",
    "word_freq_high_subjectivity = Counter(tokens_high_subjectivity)\n",
    "\n",
    "# Get the most common words (themes) for high subjectivity feedback\n",
    "high_subjectivity_themes = word_freq_high_subjectivity.most_common(10)\n",
    "\n",
    "# Display the common themes for high subjectivity feedback\n",
    "high_subjectivity_themes"
   ],
   "id": "2da210b864528c63",
   "outputs": [
    {
     "data": {
      "text/plain": [
       "[('lesson', 20),\n",
       " ('plan', 16),\n",
       " ('students', 12),\n",
       " ('good', 9),\n",
       " ('great', 7),\n",
       " ('perfectly', 6),\n",
       " ('learning', 6),\n",
       " ('aligned', 6),\n",
       " ('need', 5),\n",
       " ('activities', 4)]"
      ]
     },
     "execution_count": 187,
     "metadata": {},
     "output_type": "execute_result"
    }
   ],
   "execution_count": 187
  },
  {
   "metadata": {
    "ExecuteTime": {
     "end_time": "2024-09-19T06:16:28.125401Z",
     "start_time": "2024-09-19T06:16:28.036589Z"
    }
   },
   "cell_type": "code",
   "source": [
    "from sklearn.feature_extraction.text import CountVectorizer\n",
    "from sklearn.decomposition import LatentDirichletAllocation\n",
    "\n",
    "# Combine both 'curriculum_comment' and 'personalization_comment' columns for topic modeling\n",
    "feedback_corpus = data_cleaned_curriculum['curriculum_comment'].tolist() + data_cleaned_personalization['personalization_comment'].tolist()\n",
    "\n",
    "# Vectorize the text data (convert to a document-term matrix)\n",
    "vectorizer = CountVectorizer(stop_words='english')\n",
    "X = vectorizer.fit_transform(feedback_corpus)\n",
    "\n",
    "# Apply Latent Dirichlet Allocation (LDA) to extract topics\n",
    "lda_model = LatentDirichletAllocation(n_components=2, random_state=42)  # Using 2 topics for simplicity\n",
    "lda_model.fit(X)\n",
    "\n",
    "# Get the top words for each topic\n",
    "words = vectorizer.get_feature_names_out()\n",
    "topics = {}\n",
    "for index, topic in enumerate(lda_model.components_):\n",
    "    top_words = [words[i] for i in topic.argsort()[-5:]]  # Get top 5 words for each topic\n",
    "    topics[f'Topic {index+1}'] = top_words\n",
    "\n",
    "# Display the identified topics and top words\n",
    "topics"
   ],
   "id": "468e74cc75ae6fc3",
   "outputs": [
    {
     "data": {
      "text/plain": [
       "{'Topic 1': ['learning', 'objectives', 'plan', 'students', 'lesson'],\n",
       " 'Topic 2': ['lesson', 'subject', 'perfectly', 'great', 'aligned']}"
      ]
     },
     "execution_count": 188,
     "metadata": {},
     "output_type": "execute_result"
    }
   ],
   "execution_count": 188
  },
  {
   "metadata": {
    "ExecuteTime": {
     "end_time": "2024-09-19T06:16:28.161315Z",
     "start_time": "2024-09-19T06:16:28.156861Z"
    }
   },
   "cell_type": "code",
   "source": [
    "# Let's check the correlation between the cleaned grades (class levels) and the satisfaction ratings (curriculum and personalization ratings)\n",
    "\n",
    "# First, we need to convert the 'clean_grade' column to numerical categories for correlation analysis\n",
    "data_clean['clean_grade_numeric'] = pd.factorize(data_clean['clean_grade'])[0]\n",
    "\n",
    "# Calculate the correlations between 'clean_grade_numeric' and satisfaction ratings ('curriculum_rating' and 'personalization_rating')\n",
    "correlations = data_clean[['clean_grade_numeric', 'curriculum_rating', 'personalization_rating']].corr()\n",
    "\n",
    "# Display the correlation matrix\n",
    "correlations"
   ],
   "id": "b10eaab073e03f51",
   "outputs": [
    {
     "data": {
      "text/plain": [
       "                        clean_grade_numeric  curriculum_rating  \\\n",
       "clean_grade_numeric                1.000000          -0.154781   \n",
       "curriculum_rating                 -0.154781           1.000000   \n",
       "personalization_rating            -0.175811           0.843922   \n",
       "\n",
       "                        personalization_rating  \n",
       "clean_grade_numeric                  -0.175811  \n",
       "curriculum_rating                     0.843922  \n",
       "personalization_rating                1.000000  "
      ],
      "text/html": [
       "<div>\n",
       "<style scoped>\n",
       "    .dataframe tbody tr th:only-of-type {\n",
       "        vertical-align: middle;\n",
       "    }\n",
       "\n",
       "    .dataframe tbody tr th {\n",
       "        vertical-align: top;\n",
       "    }\n",
       "\n",
       "    .dataframe thead th {\n",
       "        text-align: right;\n",
       "    }\n",
       "</style>\n",
       "<table border=\"1\" class=\"dataframe\">\n",
       "  <thead>\n",
       "    <tr style=\"text-align: right;\">\n",
       "      <th></th>\n",
       "      <th>clean_grade_numeric</th>\n",
       "      <th>curriculum_rating</th>\n",
       "      <th>personalization_rating</th>\n",
       "    </tr>\n",
       "  </thead>\n",
       "  <tbody>\n",
       "    <tr>\n",
       "      <th>clean_grade_numeric</th>\n",
       "      <td>1.000000</td>\n",
       "      <td>-0.154781</td>\n",
       "      <td>-0.175811</td>\n",
       "    </tr>\n",
       "    <tr>\n",
       "      <th>curriculum_rating</th>\n",
       "      <td>-0.154781</td>\n",
       "      <td>1.000000</td>\n",
       "      <td>0.843922</td>\n",
       "    </tr>\n",
       "    <tr>\n",
       "      <th>personalization_rating</th>\n",
       "      <td>-0.175811</td>\n",
       "      <td>0.843922</td>\n",
       "      <td>1.000000</td>\n",
       "    </tr>\n",
       "  </tbody>\n",
       "</table>\n",
       "</div>"
      ]
     },
     "execution_count": 189,
     "metadata": {},
     "output_type": "execute_result"
    }
   ],
   "execution_count": 189
  },
  {
   "metadata": {
    "ExecuteTime": {
     "end_time": "2024-09-19T06:16:28.218919Z",
     "start_time": "2024-09-19T06:16:28.208626Z"
    }
   },
   "cell_type": "code",
   "source": [
    "# Performing a linear regression to predict 'curriculum_rating' based on 'clean_grade', and feedback ('personalization_rating')\n",
    "\n",
    "# Using OLS (Ordinary Least Squares) to build the regression model\n",
    "linear_reg_model = ols('curriculum_rating ~ clean_grade + personalization_rating', data=data_clean).fit()\n",
    "\n",
    "# Display the summary of the linear regression analysis\n",
    "linear_regression_summary = linear_reg_model.summary()\n",
    "\n",
    "# Display the summary table\n",
    "print(linear_regression_summary)"
   ],
   "id": "9f6d41549ac20ed",
   "outputs": [
    {
     "name": "stdout",
     "output_type": "stream",
     "text": [
      "                            OLS Regression Results                            \n",
      "==============================================================================\n",
      "Dep. Variable:      curriculum_rating   R-squared:                       0.739\n",
      "Model:                            OLS   Adj. R-squared:                  0.706\n",
      "Method:                 Least Squares   F-statistic:                     22.18\n",
      "Date:                Thu, 19 Sep 2024   Prob (F-statistic):           4.42e-29\n",
      "Time:                        07:16:28   Log-Likelihood:                -127.58\n",
      "No. Observations:                 142   AIC:                             289.2\n",
      "Df Residuals:                     125   BIC:                             339.4\n",
      "Df Model:                          16                                         \n",
      "Covariance Type:            nonrobust                                         \n",
      "=======================================================================================================\n",
      "                                          coef    std err          t      P>|t|      [0.025      0.975]\n",
      "-------------------------------------------------------------------------------------------------------\n",
      "Intercept                               0.1336      0.643      0.208      0.836      -1.138       1.406\n",
      "clean_grade[T.BASIC 3]                  1.1336      0.902      1.256      0.211      -0.652       2.920\n",
      "clean_grade[T.JSS1]                    -0.0293      0.660     -0.044      0.965      -1.336       1.278\n",
      "clean_grade[T.JSS2]                     0.1046      0.667      0.157      0.876      -1.216       1.425\n",
      "clean_grade[T.JSS3]                    -0.1286      0.664     -0.194      0.847      -1.442       1.185\n",
      "clean_grade[T.PRE SCHOOL 1]             0.0668      0.897      0.074      0.941      -1.709       1.843\n",
      "clean_grade[T.PREP 1]                  -0.0668      0.897     -0.074      0.941      -1.843       1.709\n",
      "clean_grade[T.PRIMARY 2]                0.0668      0.733      0.091      0.928      -1.385       1.518\n",
      "clean_grade[T.PRIMARY 3]               -0.0662      0.724     -0.091      0.927      -1.499       1.367\n",
      "clean_grade[T.PRIMARY 4]               -0.1997      0.739     -0.270      0.788      -1.663       1.264\n",
      "clean_grade[T.PRIMARY 5]               -0.3497      0.683     -0.512      0.610      -1.701       1.002\n",
      "clean_grade[T.PRIMARY 6]                1.1336      0.902      1.256      0.211      -0.652       2.920\n",
      "clean_grade[T.SS1]                      0.1957      0.653      0.300      0.765      -1.096       1.487\n",
      "clean_grade[T.SS2]                     -0.0358      0.655     -0.055      0.957      -1.333       1.261\n",
      "clean_grade[T.SS3]                     -0.0122      0.659     -0.019      0.985      -1.317       1.293\n",
      "clean_grade[T.UNIVERSITY LEVEL 300]     0.1336      0.902      0.148      0.883      -1.652       1.920\n",
      "personalization_rating                  0.9332      0.055     17.006      0.000       0.825       1.042\n",
      "==============================================================================\n",
      "Omnibus:                       56.752   Durbin-Watson:                   2.027\n",
      "Prob(Omnibus):                  0.000   Jarque-Bera (JB):              190.460\n",
      "Skew:                          -1.495   Prob(JB):                     4.39e-42\n",
      "Kurtosis:                       7.821   Cond. No.                         207.\n",
      "==============================================================================\n",
      "\n",
      "Notes:\n",
      "[1] Standard Errors assume that the covariance matrix of the errors is correctly specified.\n"
     ]
    }
   ],
   "execution_count": 190
  }
 ],
 "metadata": {
  "kernelspec": {
   "display_name": "Python 3",
   "language": "python",
   "name": "python3"
  },
  "language_info": {
   "codemirror_mode": {
    "name": "ipython",
    "version": 2
   },
   "file_extension": ".py",
   "mimetype": "text/x-python",
   "name": "python",
   "nbconvert_exporter": "python",
   "pygments_lexer": "ipython2",
   "version": "2.7.6"
  }
 },
 "nbformat": 4,
 "nbformat_minor": 5
}
